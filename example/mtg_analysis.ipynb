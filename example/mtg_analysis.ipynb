{
 "cells": [
  {
   "cell_type": "markdown",
   "metadata": {},
   "source": [
    "# MTG Tutorial - Analysis"
   ]
  },
  {
   "cell_type": "markdown",
   "metadata": {},
   "source": [
    "[MTG](https://mtg.readthedocs.io/) is an [OpenAlea](https://openalea.readthedocs.io/) model. MTG (Multiscale Tree Graph) allows to represent plant architecture on a graph at different scales.\n",
    "\n",
    "Basically, a MTG is topological data that could be extracted with requests, as a data base.\n",
    "\n",
    "In this **tutorial**, we will work on a part of a Noylum MTG.\n",
    "\n",
    "For that we will follow different steps:\n",
    "\n",
    "* Load the tree digitised MTG\n",
    "* Explore the MTG as an architectural database\n",
    "  * number of vertices\n",
    "  * class of vertices\n",
    "  * number of scales\n",
    "  * properties\n",
    "  \n",
    "In order to make all these graphs, we used [pyvis](https://pyvis.readthedocs.io/)."
   ]
  },
  {
   "cell_type": "markdown",
   "metadata": {},
   "source": [
    "## Introduction"
   ]
  },
  {
   "cell_type": "markdown",
   "metadata": {},
   "source": [
    "First, let's import the **packages** we need for the tutorial."
   ]
  },
  {
   "cell_type": "code",
   "execution_count": 1,
   "metadata": {},
   "outputs": [],
   "source": [
    "import openalea\n",
    "from openalea.mtg import *\n",
    "from openalea.deploy.shared_data import shared_data\n",
    "from oawidgets.mtg import plot\n",
    "from oawidgets.plantgl import PlantGL"
   ]
  },
  {
   "cell_type": "markdown",
   "metadata": {},
   "source": [
    "Some **conventions** :\n",
    "* MTG data structure : **g**\n",
    "* Vertex identifier: **vid**"
   ]
  },
  {
   "cell_type": "markdown",
   "metadata": {},
   "source": [
    "## Load and Display the MTG "
   ]
  },
  {
   "cell_type": "markdown",
   "metadata": {},
   "source": [
    "Now, we collect MTG data."
   ]
  },
  {
   "cell_type": "code",
   "execution_count": 2,
   "metadata": {},
   "outputs": [],
   "source": [
    "data = shared_data(openalea.mtg)\n",
    "g = MTG(data/'boutdenoylum2.mtg')"
   ]
  },
  {
   "cell_type": "markdown",
   "metadata": {},
   "source": [
    "We plot the MTG. **Different colors represent different complexes** and each complex begins with a box node which is the **component root**.\n",
    "\n",
    "Notice that you can **click and drag** on a particuliar node to make it move. Also, you can see some properties of the node by **putting you mouse over** a node."
   ]
  },
  {
   "cell_type": "code",
   "execution_count": 3,
   "metadata": {},
   "outputs": [
    {
     "name": "stdout",
     "output_type": "stream",
     "text": [
      "Local cdn resources have problems on chrome/safari when used in jupyter-notebook. \n"
     ]
    },
    {
     "data": {
      "text/html": [
       "\n",
       "        <iframe\n",
       "            width=\"900px\"\n",
       "            height=\"800px\"\n",
       "            src=\"mtg.html\"\n",
       "            frameborder=\"0\"\n",
       "            allowfullscreen\n",
       "            \n",
       "        ></iframe>\n",
       "        "
      ],
      "text/plain": [
       "<IPython.lib.display.IFrame at 0x1aecbeac0>"
      ]
     },
     "execution_count": 3,
     "metadata": {},
     "output_type": "execute_result"
    }
   ],
   "source": [
    "plot(g)"
   ]
  },
  {
   "cell_type": "markdown",
   "metadata": {},
   "source": [
    "## MTG Extraction and Visualisation"
   ]
  },
  {
   "cell_type": "markdown",
   "metadata": {},
   "source": [
    "### Scales and Classes represent modularities\n",
    "\n",
    "#### Scale 1 : P = Plant\n",
    "\n",
    "#### Scale 2 : A = Axes\n",
    "\n",
    "#### Scale 3 : Growth Unit\n",
    "* S : Shoot\n",
    "* U : Unit\n"
   ]
  },
  {
   "cell_type": "markdown",
   "metadata": {},
   "source": [
    "Let's find the **number of scales** 'nb_scales()' in the MTG and print how many vertices per scale and the classes in each scale."
   ]
  },
  {
   "cell_type": "code",
   "execution_count": 4,
   "metadata": {},
   "outputs": [
    {
     "name": "stdout",
     "output_type": "stream",
     "text": [
      "Nb vertices at scale  1 :  1\n",
      "Classes :  P\n",
      "Nb vertices at scale  2 :  63\n",
      "Classes :  A\n",
      "Nb vertices at scale  3 :  198\n",
      "Classes :  U, S\n"
     ]
    }
   ],
   "source": [
    "nb_scales = g.nb_scales()\n",
    "\n",
    "# Print the vertices at different scales\n",
    "for scale in range(1, nb_scales):\n",
    "    print('Nb vertices at scale ', scale, ': ', g.nb_vertices(scale=scale))\n",
    "    print('Classes : ', ', '.join(list(set(g.class_name(vid) for vid in g.vertices(scale=scale)))))"
   ]
  },
  {
   "cell_type": "markdown",
   "metadata": {},
   "source": [
    "Actually, the **default scale** is the max scale (3 here) but you can change it to plot it at a different scale.\n",
    "\n",
    "You will notice that all the nodes have the same color. Being at lower scale, there is only one group defined, so there is only one color."
   ]
  },
  {
   "cell_type": "code",
   "execution_count": 5,
   "metadata": {},
   "outputs": [
    {
     "name": "stdout",
     "output_type": "stream",
     "text": [
      "Local cdn resources have problems on chrome/safari when used in jupyter-notebook. \n"
     ]
    },
    {
     "data": {
      "text/html": [
       "\n",
       "        <iframe\n",
       "            width=\"900px\"\n",
       "            height=\"800px\"\n",
       "            src=\"mtg.html\"\n",
       "            frameborder=\"0\"\n",
       "            allowfullscreen\n",
       "            \n",
       "        ></iframe>\n",
       "        "
      ],
      "text/plain": [
       "<IPython.lib.display.IFrame at 0x1aecd9a00>"
      ]
     },
     "execution_count": 5,
     "metadata": {},
     "output_type": "execute_result"
    }
   ],
   "source": [
    "plot(g, scale=g.max_scale()-1)"
   ]
  },
  {
   "cell_type": "markdown",
   "metadata": {},
   "source": [
    "We can select **all the vertices of each class**."
   ]
  },
  {
   "cell_type": "code",
   "execution_count": 6,
   "metadata": {},
   "outputs": [
    {
     "name": "stdout",
     "output_type": "stream",
     "text": [
      "['P', 'A', 'S', 'U']\n",
      "Nb U 84\n"
     ]
    }
   ],
   "source": [
    "classes = list(set(g.class_name(vid) for vid in g.vertices() if g.class_name(vid)))\n",
    "print(classes)\n",
    "\n",
    "def vertices(g, class_name='P'):\n",
    "    return [vid for vid in g.vertices() if g.class_name(vid)==class_name]\n",
    "\n",
    "vids_U = vertices(g, 'U')\n",
    "print('Nb U', len(vids_U))"
   ]
  },
  {
   "cell_type": "markdown",
   "metadata": {},
   "source": [
    "Let's plot the graph with the selected vertices corresponding to the **U class**."
   ]
  },
  {
   "cell_type": "code",
   "execution_count": 7,
   "metadata": {},
   "outputs": [
    {
     "name": "stdout",
     "output_type": "stream",
     "text": [
      "Local cdn resources have problems on chrome/safari when used in jupyter-notebook. \n"
     ]
    },
    {
     "data": {
      "text/html": [
       "\n",
       "        <iframe\n",
       "            width=\"900px\"\n",
       "            height=\"800px\"\n",
       "            src=\"mtg.html\"\n",
       "            frameborder=\"0\"\n",
       "            allowfullscreen\n",
       "            \n",
       "        ></iframe>\n",
       "        "
      ],
      "text/plain": [
       "<IPython.lib.display.IFrame at 0x1aeccd700>"
      ]
     },
     "execution_count": 7,
     "metadata": {},
     "output_type": "execute_result"
    }
   ],
   "source": [
    "plot(g, selection=vids_U)"
   ]
  },
  {
   "cell_type": "markdown",
   "metadata": {},
   "source": [
    "### Property Extraction"
   ]
  },
  {
   "cell_type": "markdown",
   "metadata": {},
   "source": [
    "Let's go on by **displaying a whole property** through the graph."
   ]
  },
  {
   "cell_type": "code",
   "execution_count": 11,
   "metadata": {},
   "outputs": [
    {
     "name": "stdout",
     "output_type": "stream",
     "text": [
      "['edge_type', 'label', 'index', 'Dist', 'El1', 'Az1', 'Inc', 'Azm', 'XX', 'YY', 'ZZ', 'psi', 'teta', 'phi', 'TopDia', 'NFe', 'Nf', 'Lum1', 'Lum2', 'Lum3', 'Lum4', '_line', 'position']\n"
     ]
    }
   ],
   "source": [
    "# Properties on the MTG: this exclude all the topological properties\n",
    "print(g.property_names())\n",
    "\n",
    "# Retrieve one property for the MTG (dict)\n",
    "phi = g.property('phi')"
   ]
  },
  {
   "cell_type": "markdown",
   "metadata": {},
   "source": [
    "Once you've extracted the **'phi' property** corresponding to the $\\phi$ angle. You can **change the labels** of the graph nodes with it.\n",
    "\n",
    "Now, if you **zoom** in a node, you will see that the labels have changed."
   ]
  },
  {
   "cell_type": "code",
   "execution_count": 12,
   "metadata": {},
   "outputs": [
    {
     "data": {
      "text/html": [
       "\n",
       "        <iframe\n",
       "            width=\"900px\"\n",
       "            height=\"800px\"\n",
       "            src=\"mtg.html\"\n",
       "            frameborder=\"0\"\n",
       "            allowfullscreen\n",
       "            \n",
       "        ></iframe>\n",
       "        "
      ],
      "text/plain": [
       "<IPython.lib.display.IFrame at 0x1aabd8c40>"
      ]
     },
     "execution_count": 12,
     "metadata": {},
     "output_type": "execute_result"
    }
   ],
   "source": [
    "plot(g, labels=phi)"
   ]
  },
  {
   "cell_type": "markdown",
   "metadata": {},
   "source": [
    "### Trunk Extraction"
   ]
  },
  {
   "cell_type": "markdown",
   "metadata": {},
   "source": [
    "In this part, we will select and visualise the **trunk**."
   ]
  },
  {
   "cell_type": "code",
   "execution_count": 14,
   "metadata": {},
   "outputs": [],
   "source": [
    "root = next(g.roots_iter(scale=g.max_scale()))\n",
    "trunk = g.Trunk(root)"
   ]
  },
  {
   "cell_type": "markdown",
   "metadata": {},
   "source": [
    "Now we have the **selection of the trunk**, we can visualise it."
   ]
  },
  {
   "cell_type": "code",
   "execution_count": 15,
   "metadata": {},
   "outputs": [
    {
     "data": {
      "text/html": [
       "\n",
       "        <iframe\n",
       "            width=\"900px\"\n",
       "            height=\"800px\"\n",
       "            src=\"mtg.html\"\n",
       "            frameborder=\"0\"\n",
       "            allowfullscreen\n",
       "            \n",
       "        ></iframe>\n",
       "        "
      ],
      "text/plain": [
       "<IPython.lib.display.IFrame at 0x1aace6520>"
      ]
     },
     "execution_count": 15,
     "metadata": {},
     "output_type": "execute_result"
    }
   ],
   "source": [
    "plot(g, selection=trunk)"
   ]
  },
  {
   "cell_type": "markdown",
   "metadata": {},
   "source": [
    "### Leaves Extraction"
   ]
  },
  {
   "cell_type": "markdown",
   "metadata": {},
   "source": [
    "Let's select the **leaves** and display them."
   ]
  },
  {
   "cell_type": "code",
   "execution_count": 16,
   "metadata": {},
   "outputs": [
    {
     "data": {
      "text/html": [
       "\n",
       "        <iframe\n",
       "            width=\"900px\"\n",
       "            height=\"800px\"\n",
       "            src=\"mtg.html\"\n",
       "            frameborder=\"0\"\n",
       "            allowfullscreen\n",
       "            \n",
       "        ></iframe>\n",
       "        "
      ],
      "text/plain": [
       "<IPython.lib.display.IFrame at 0x1aacaa4c0>"
      ]
     },
     "execution_count": 16,
     "metadata": {},
     "output_type": "execute_result"
    }
   ],
   "source": [
    "leaves = [vid for vid in g.vertices(scale=g.max_scale()) if g.is_leaf(vid)]\n",
    "plot(g, selection=leaves)"
   ]
  },
  {
   "cell_type": "markdown",
   "metadata": {},
   "source": [
    "### Component Roots Extraction"
   ]
  },
  {
   "cell_type": "markdown",
   "metadata": {},
   "source": [
    "Now, we select the **first component of each complex**, which are **the component roots**. In fact, the MTG is built at different scale, so we want to highlight the nodes that represent a complex at one lower scale."
   ]
  },
  {
   "cell_type": "code",
   "execution_count": 18,
   "metadata": {},
   "outputs": [
    {
     "data": {
      "text/html": [
       "\n",
       "        <iframe\n",
       "            width=\"900px\"\n",
       "            height=\"800px\"\n",
       "            src=\"mtg.html\"\n",
       "            frameborder=\"0\"\n",
       "            allowfullscreen\n",
       "            \n",
       "        ></iframe>\n",
       "        "
      ],
      "text/plain": [
       "<IPython.lib.display.IFrame at 0x1aad3de80>"
      ]
     },
     "execution_count": 18,
     "metadata": {},
     "output_type": "execute_result"
    }
   ],
   "source": [
    "c_roots = [next(g.component_roots_at_scale_iter(cid, scale=g.max_scale())) for cid in g.vertices(scale=g.max_scale()-1)]\n",
    "plot(g, selection=c_roots)"
   ]
  },
  {
   "cell_type": "markdown",
   "metadata": {},
   "source": [
    "### Descendants Extraction"
   ]
  },
  {
   "cell_type": "markdown",
   "metadata": {},
   "source": [
    "Here, we select all the **descendants** of one particuliar node."
   ]
  },
  {
   "cell_type": "code",
   "execution_count": 19,
   "metadata": {},
   "outputs": [
    {
     "data": {
      "text/html": [
       "\n",
       "        <iframe\n",
       "            width=\"900px\"\n",
       "            height=\"800px\"\n",
       "            src=\"mtg.html\"\n",
       "            frameborder=\"0\"\n",
       "            allowfullscreen\n",
       "            \n",
       "        ></iframe>\n",
       "        "
      ],
      "text/plain": [
       "<IPython.lib.display.IFrame at 0x1aae871c0>"
      ]
     },
     "execution_count": 19,
     "metadata": {},
     "output_type": "execute_result"
    }
   ],
   "source": [
    "root_id = 139\n",
    "children = g.Descendants(root_id)\n",
    "plot(g, selection=children)"
   ]
  },
  {
   "cell_type": "markdown",
   "metadata": {},
   "source": [
    "## PlantFrame 3D "
   ]
  },
  {
   "cell_type": "markdown",
   "metadata": {},
   "source": [
    "Now, we can **display the MTG in 3D**. You can check the [PlantFrame tutorial](https://nbviewer.jupyter.org/github/openalea/openalea.rtfd.io/blob/master/example/mtg_plantframe.ipynb)."
   ]
  },
  {
   "cell_type": "code",
   "execution_count": 20,
   "metadata": {},
   "outputs": [
    {
     "name": "stdout",
     "output_type": "stream",
     "text": [
      "\n"
     ]
    },
    {
     "data": {
      "application/vnd.jupyter.widget-view+json": {
       "model_id": "0af5f295207a4f16b0610666210db9ac",
       "version_major": 2,
       "version_minor": 0
      },
      "text/plain": [
       "Plot(antialias=3, axes=['x', 'y', 'z'], axes_helper=1.0, background_color=16777215, camera_animation=[], camer…"
      ]
     },
     "metadata": {},
     "output_type": "display_data"
    }
   ],
   "source": [
    "drf = data/'walnut.drf'\n",
    "dressing_data = dresser.dressing_data_from_file(drf)\n",
    "dressing_data = plantframe.DressingData(DiameterUnit=10)\n",
    "pf = plantframe.PlantFrame(g, TopDiameter='TopDia', DressingData = dressing_data)\n",
    "scene = pf.plot(gc=True, display=False)\n",
    "PlantGL(scene)"
   ]
  },
  {
   "cell_type": "code",
   "execution_count": null,
   "metadata": {},
   "outputs": [],
   "source": []
  }
 ],
 "metadata": {
  "kernelspec": {
   "display_name": "Python 3 (ipykernel)",
   "language": "python",
   "name": "python3"
  },
  "language_info": {
   "codemirror_mode": {
    "name": "ipython",
    "version": 3
   },
   "file_extension": ".py",
   "mimetype": "text/x-python",
   "name": "python",
   "nbconvert_exporter": "python",
   "pygments_lexer": "ipython3",
   "version": "3.9.16"
  },
  "widgets": {
   "application/vnd.jupyter.widget-state+json": {
    "state": {
     "0af5f295207a4f16b0610666210db9ac": {
      "model_module": "k3d",
      "model_module_version": "2.12.0",
      "model_name": "PlotModel",
      "state": {
       "_backend_version": "2.12.0",
       "_dom_classes": [],
       "_view_count": null,
       "antialias": 3,
       "auto_rendering": true,
       "axes": [
        "x",
        "y",
        "z"
       ],
       "axes_helper": 1,
       "background_color": 16777215,
       "camera": [
        237.0511998382966,
        -608.7436264824515,
        252.3754053845785,
        -85.58556270599365,
        -124.78848266601562,
        220.1117291301489,
        0,
        0,
        1
       ],
       "camera_animation": [],
       "camera_auto_fit": true,
       "camera_damping_factor": 0,
       "camera_fov": 60,
       "camera_mode": "trackball",
       "camera_no_pan": false,
       "camera_no_rotate": false,
       "camera_no_zoom": false,
       "camera_pan_speed": 0.3,
       "camera_rotate_speed": 1,
       "camera_zoom_speed": 1.2,
       "clipping_planes": [],
       "colorbar_object_id": -1,
       "colorbar_scientific": false,
       "fps": 25,
       "fps_meter": false,
       "grid": [
        -1,
        -1,
        -1,
        1,
        1,
        1
       ],
       "grid_auto_fit": true,
       "grid_color": 15132390,
       "grid_visible": true,
       "height": 512,
       "label_color": 4473924,
       "layout": "IPY_MODEL_d68e66e22be44022b2b2841bb3d09c2b",
       "lighting": 3,
       "logarithmic_depth_buffer": true,
       "manipulate_mode": "translate",
       "menu_visibility": true,
       "mode": "view",
       "name": null,
       "object_ids": [
        7160520816
       ],
       "rendering_steps": 1,
       "screenshot": "",
       "screenshot_scale": 2,
       "snapshot": "",
       "snapshot_type": "full",
       "time": 0,
       "voxel_paint_color": 0
      }
     },
     "d68e66e22be44022b2b2841bb3d09c2b": {
      "model_module": "@jupyter-widgets/base",
      "model_module_version": "1.2.0",
      "model_name": "LayoutModel",
      "state": {}
     },
     "f6f7aa9915e7440d8cfbbc9bb25ee9df": {
      "buffers": [
       {
        "data": "",
        "encoding": "base64",
        "path": [
         "attribute",
         "data"
        ]
       },
       {
        "data": "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",
        "encoding": "base64",
        "path": [
         "color_map",
         "data"
        ]
       },
       {
        "data": "",
        "encoding": "base64",
        "path": [
         "colors",
         "data"
        ]
       },
       {
        "data": "AAAAAAEAAAAJAAAAAAAAAAkAAAAIAAAAAQAAAAIAAAAKAAAAAQAAAAoAAAAJAAAAAgAAAAMAAAALAAAAAgAAAAsAAAAKAAAAAwAAAAQAAAAMAAAAAwAAAAwAAAALAAAABAAAAAUAAAANAAAABAAAAA0AAAAMAAAABQAAAAYAAAAOAAAABQAAAA4AAAANAAAABgAAAAcAAAAPAAAABgAAAA8AAAAOAAAABwAAAAAAAAAIAAAABwAAAAgAAAAPAAAAEAAAABEAAAAZAAAAEAAAABkAAAAYAAAAEQAAABIAAAAaAAAAEQAAABoAAAAZAAAAEgAAABMAAAAbAAAAEgAAABsAAAAaAAAAEwAAABQAAAAcAAAAEwAAABwAAAAbAAAAFAAAABUAAAAdAAAAFAAAAB0AAAAcAAAAFQAAABYAAAAeAAAAFQAAAB4AAAAdAAAAFgAAABcAAAAfAAAAFgAAAB8AAAAeAAAAFwAAABAAAAAYAAAAFwAAABgAAAAfAAAAIAAAACEAAAApAAAAIAAAACkAAAAoAAAAIQAAACIAAAAqAAAAIQAAACoAAAApAAAAIgAAACMAAAArAAAAIgAAACsAAAAqAAAAIwAAACQAAAAsAAAAIwAAACwAAAArAAAAJAAAACUAAAAtAAAAJAAAAC0AAAAsAAAAJQAAACYAAAAuAAAAJQAAAC4AAAAtAAAAJgAAACcAAAAvAAAAJgAAAC8AAAAuAAAAJwAAACAAAAAoAAAAJwAAACgAAAAvAAAAMAAAADEAAAA5AAAAMAAAADkAAAA4AAAAMQAAADIAAAA6AAAAMQAAADoAAAA5AAAAMgAAADMAAAA7AAAAMgAAADsAAAA6AAAAMwAAADQAAAA8AAAAMwAAADwAAAA7AAAANAAAADUAAAA9AAAANAAAAD0AAAA8AAAANQAAADYAAAA+AAAANQAAAD4AAAA9AAAANgAAADcAAAA/AAAANgAAAD8AAAA+AAAANwAAADAAAAA4AAAANwAAADgAAAA/AAAAQAAAAEEAAABJAAAAQAAAAEkAAABIAAAAQQAAAEIAAABKAAAAQQAAAEoAAABJAAAAQgAAAEMAAABLAAAAQgAAAEsAAABKAAAAQwAAAEQAAABMAAAAQwAAAEwAAABLAAAARAAAAEUAAABNAAAARAAAAE0AAABMAAAARQAAAEYAAABOAAAARQAAAE4AAABNAAAARgAAAEcAAABPAAAARgAAAE8AAABOAAAARwAAAEAAAABIAAAARwAAAEgAAABPAAAAUAAAAFEAAABZAAAAUAAAAFkAAABYAAAAUQAAAFIAAABaAAAAUQAAAFoAAABZAAAAUgAAAFMAAABbAAAAUgAAAFsAAABaAAAAUwAAAFQAAABcAAAAUwAAAFwAAABbAAAAVAAAAFUAAABdAAAAVAAAAF0AAABcAAAAVQAAAFYAAABeAAAAVQAAAF4AAABdAAAAVgAAAFcAAABfAAAAVgAAAF8AAABeAAAAVwAAAFAAAABYAAAAVwAAAFgAAABfAAAAYAAAAGEAAABpAAAAYAAAAGkAAABoAAAAYQAAAGIAAABqAAAAYQAAAGoAAABpAAAAYgAAAGMAAABrAAAAYgAAAGsAAABqAAAAYwAAAGQAAABsAAAAYwAAAGwAAABrAAAAZAAAAGUAAABtAAAAZAAAAG0AAABsAAAAZQAAAGYAAABuAAAAZQAAAG4AAABtAAAAZgAAAGcAAABvAAAAZgAAAG8AAABuAAAAZwAAAGAAAABoAAAAZwAAAGgAAABvAAAAcAAAAHEAAAB5AAAAcAAAAHkAAAB4AAAAcQAAAHIAAAB6AAAAcQAAAHoAAAB5AAAAcgAAAHMAAAB7AAAAcgAAAHsAAAB6AAAAcwAAAHQAAAB8AAAAcwAAAHwAAAB7AAAAdAAAAHUAAAB9AAAAdAAAAH0AAAB8AAAAdQAAAHYAAAB+AAAAdQAAAH4AAAB9AAAAdgAAAHcAAAB/AAAAdgAAAH8AAAB+AAAAdwAAAHAAAAB4AAAAdwAAAHgAAAB/AAAAgAAAAIEAAACJAAAAgAAAAIkAAACIAAAAgQAAAIIAAACKAAAAgQAAAIoAAACJAAAAggAAAIMAAACLAAAAggAAAIsAAACKAAAAgwAAAIQAAACMAAAAgwAAAIwAAACLAAAAhAAAAIUAAACNAAAAhAAAAI0AAACMAAAAhQAAAIYAAACOAAAAhQAAAI4AAACNAAAAhgAAAIcAAACPAAAAhgAAAI8AAACOAAAAhwAAAIAAAACIAAAAhwAAAIgAAACPAAAAkAAAAJEAAACZAAAAkAAAAJkAAACYAAAAkQAAAJIAAACaAAAAkQAAAJoAAACZAAAAkgAAAJMAAACbAAAAkgAAAJsAAACaAAAAkwAAAJQAAACcAAAAkwAAAJwAAACbAAAAlAAAAJUAAACdAAAAlAAAAJ0AAACcAAAAlQAAAJYAAACeAAAAlQAAAJ4AAACdAAAAlgAAAJcAAACfAAAAlgAAAJ8AAACeAAAAlwAAAJAAAACYAAAAlwAAAJgAAACfAAAAmAAAAJkAAAChAAAAmAAAAKEAAACgAAAAmQAAAJoAAACiAAAAmQAAAKIAAAChAAAAmgAAAJsAAACjAAAAmgAAAKMAAACiAAAAmwAAAJwAAACkAAAAmwAAAKQAAACjAAAAnAAAAJ0AAAClAAAAnAAAAKUAAACkAAAAnQAAAJ4AAACmAAAAnQAAAKYAAAClAAAAngAAAJ8AAACnAAAAngAAAKcAAACmAAAAnwAAAJgAAACgAAAAnwAAAKAAAACnAAAAoAAAAKEAAACpAAAAoAAAAKkAAACoAAAAoQAAAKIAAACqAAAAoQAAAKoAAACpAAAAogAAAKMAAACrAAAAogAAAKsAAACqAAAAowAAAKQAAACsAAAAowAAAKwAAACrAAAApAAAAKUAAACtAAAApAAAAK0AAACsAAAApQAAAKYAAACuAAAApQAAAK4AAACtAAAApgAAAKcAAACvAAAApgAAAK8AAACuAAAApwAAAKAAAACoAAAApwAAAKgAAACvAAAAsAAAALEAAAC5AAAAsAAAALkAAAC4AAAAsQAAALIAAAC6AAAAsQAAALoAAAC5AAAAsgAAALMAAAC7AAAAsgAAALsAAAC6AAAAswAAALQAAAC8AAAAswAAALwAAAC7AAAAtAAAALUAAAC9AAAAtAAAAL0AAAC8AAAAtQAAALYAAAC+AAAAtQAAAL4AAAC9AAAAtgAAALcAAAC/AAAAtgAAAL8AAAC+AAAAtwAAALAAAAC4AAAAtwAAALgAAAC/AAAAuAAAALkAAADBAAAAuAAAAMEAAADAAAAAuQAAALoAAADCAAAAuQAAAMIAAADBAAAAugAAALsAAADDAAAAugAAAMMAAADCAAAAuwAAALwAAADEAAAAuwAAAMQAAADDAAAAvAAAAL0AAADFAAAAvAAAAMUAAADEAAAAvQAAAL4AAADGAAAAvQAAAMYAAADFAAAAvgAAAL8AAADHAAAAvgAAAMcAAADGAAAAvwAAALgAAADAAAAAvwAAAMAAAADHAAAAwAAAAMEAAADJAAAAwAAAAMkAAADIAAAAwQAAAMIAAADKAAAAwQAAAMoAAADJAAAAwgAAAMMAAADLAAAAwgAAAMsAAADKAAAAwwAAAMQAAADMAAAAwwAAAMwAAADLAAAAxAAAAMUAAADNAAAAxAAAAM0AAADMAAAAxQAAAMYAAADOAAAAxQAAAM4AAADNAAAAxgAAAMcAAADPAAAAxgAAAM8AAADOAAAAxwAAAMAAAADIAAAAxwAAAMgAAADPAAAA0AAAANEAAADZAAAA0AAAANkAAADYAAAA0QAAANIAAADaAAAA0QAAANoAAADZAAAA0gAAANMAAADbAAAA0gAAANsAAADaAAAA0wAAANQAAADcAAAA0wAAANwAAADbAAAA1AAAANUAAADdAAAA1AAAAN0AAADcAAAA1QAAANYAAADeAAAA1QAAAN4AAADdAAAA1gAAANcAAADfAAAA1gAAAN8AAADeAAAA1wAAANAAAADYAAAA1wAAANgAAADfAAAA2AAAANkAAADhAAAA2AAAAOEAAADgAAAA2QAAANoAAADiAAAA2QAAAOIAAADhAAAA2gAAANsAAADjAAAA2gAAAOMAAADiAAAA2wAAANwAAADkAAAA2wAAAOQAAADjAAAA3AAAAN0AAADlAAAA3AAAAOUAAADkAAAA3QAAAN4AAADmAAAA3QAAAOYAAADlAAAA3gAAAN8AAADnAAAA3gAAAOcAAADmAAAA3wAAANgAAADgAAAA3wAAAOAAAADnAAAA4AAAAOEAAADpAAAA4AAAAOkAAADoAAAA4QAAAOIAAADqAAAA4QAAAOoAAADpAAAA4gAAAOMAAADrAAAA4gAAAOsAAADqAAAA4wAAAOQAAADsAAAA4wAAAOwAAADrAAAA5AAAAOUAAADtAAAA5AAAAO0AAADsAAAA5QAAAOYAAADuAAAA5QAAAO4AAADtAAAA5gAAAOcAAADvAAAA5gAAAO8AAADuAAAA5wAAAOAAAADoAAAA5wAAAOgAAADvAAAA8AAAAPEAAAD5AAAA8AAAAPkAAAD4AAAA8QAAAPIAAAD6AAAA8QAAAPoAAAD5AAAA8gAAAPMAAAD7AAAA8gAAAPsAAAD6AAAA8wAAAPQAAAD8AAAA8wAAAPwAAAD7AAAA9AAAAPUAAAD9AAAA9AAAAP0AAAD8AAAA9QAAAPYAAAD+AAAA9QAAAP4AAAD9AAAA9gAAAPcAAAD/AAAA9gAAAP8AAAD+AAAA9wAAAPAAAAD4AAAA9wAAAPgAAAD/AAAA+AAAAPkAAAABAQAA+AAAAAEBAAAAAQAA+QAAAPoAAAACAQAA+QAAAAIBAAABAQAA+gAAAPsAAAADAQAA+gAAAAMBAAACAQAA+wAAAPwAAAAEAQAA+wAAAAQBAAADAQAA/AAAAP0AAAAFAQAA/AAAAAUBAAAEAQAA/QAAAP4AAAAGAQAA/QAAAAYBAAAFAQAA/gAAAP8AAAAHAQAA/gAAAAcBAAAGAQAA/wAAAPgAAAAAAQAA/wAAAAABAAAHAQAAAAEAAAEBAAAJAQAAAAEAAAkBAAAIAQAAAQEAAAIBAAAKAQAAAQEAAAoBAAAJAQAAAgEAAAMBAAALAQAAAgEAAAsBAAAKAQAAAwEAAAQBAAAMAQAAAwEAAAwBAAALAQAABAEAAAUBAAANAQAABAEAAA0BAAAMAQAABQEAAAYBAAAOAQAABQEAAA4BAAANAQAABgEAAAcBAAAPAQAABgEAAA8BAAAOAQAABwEAAAABAAAIAQAABwEAAAgBAAAPAQAAEAEAABEBAAAZAQAAEAEAABkBAAAYAQAAEQEAABIBAAAaAQAAEQEAABoBAAAZAQAAEgEAABMBAAAbAQAAEgEAABsBAAAaAQAAEwEAABQBAAAcAQAAEwEAABwBAAAbAQAAFAEAABUBAAAdAQAAFAEAAB0BAAAcAQAAFQEAABYBAAAeAQAAFQEAAB4BAAAdAQAAFgEAABcBAAAfAQAAFgEAAB8BAAAeAQAAFwEAABABAAAYAQAAFwEAABgBAAAfAQAAGAEAABkBAAAhAQAAGAEAACEBAAAgAQAAGQEAABoBAAAiAQAAGQEAACIBAAAhAQAAGgEAABsBAAAjAQAAGgEAACMBAAAiAQAAGwEAABwBAAAkAQAAGwEAACQBAAAjAQAAHAEAAB0BAAAlAQAAHAEAACUBAAAkAQAAHQEAAB4BAAAmAQAAHQEAACYBAAAlAQAAHgEAAB8BAAAnAQAAHgEAACcBAAAmAQAAHwEAABgBAAAgAQAAHwEAACABAAAnAQAAIAEAACEBAAApAQAAIAEAACkBAAAoAQAAIQEAACIBAAAqAQAAIQEAACoBAAApAQAAIgEAACMBAAArAQAAIgEAACsBAAAqAQAAIwEAACQBAAAsAQAAIwEAACwBAAArAQAAJAEAACUBAAAtAQAAJAEAAC0BAAAsAQAAJQEAACYBAAAuAQAAJQEAAC4BAAAtAQAAJgEAACcBAAAvAQAAJgEAAC8BAAAuAQAAJwEAACABAAAoAQAAJwEAACgBAAAvAQAAMAEAADEBAAA5AQAAMAEAADkBAAA4AQAAMQEAADIBAAA6AQAAMQEAADoBAAA5AQAAMgEAADMBAAA7AQAAMgEAADsBAAA6AQAAMwEAADQBAAA8AQAAMwEAADwBAAA7AQAANAEAADUBAAA9AQAANAEAAD0BAAA8AQAANQEAADYBAAA+AQAANQEAAD4BAAA9AQAANgEAADcBAAA/AQAANgEAAD8BAAA+AQAANwEAADABAAA4AQAANwEAADgBAAA/AQAAOAEAADkBAABBAQAAOAEAAEEBAABAAQAAOQEAADoBAABCAQAAOQEAAEIBAABBAQAAOgEAADsBAABDAQAAOgEAAEMBAABCAQAAOwEAADwBAABEAQAAOwEAAEQBAABDAQAAPAEAAD0BAABFAQAAPAEAAEUBAABEAQAAPQEAAD4BAABGAQAAPQEAAEYBAABFAQAAPgEAAD8BAABHAQAAPgEAAEcBAABGAQAAPwEAADgBAABAAQAAPwEAAEABAABHAQAAQAEAAEEBAABJAQAAQAEAAEkBAABIAQAAQQEAAEIBAABKAQAAQQEAAEoBAABJAQAAQgEAAEMBAABLAQAAQgEAAEsBAABKAQAAQwEAAEQBAABMAQAAQwEAAEwBAABLAQAARAEAAEUBAABNAQAARAEAAE0BAABMAQAARQEAAEYBAABOAQAARQEAAE4BAABNAQAARgEAAEcBAABPAQAARgEAAE8BAABOAQAARwEAAEABAABIAQAARwEAAEgBAABPAQAAUAEAAFEBAABZAQAAUAEAAFkBAABYAQAAUQEAAFIBAABaAQAAUQEAAFoBAABZAQAAUgEAAFMBAABbAQAAUgEAAFsBAABaAQAAUwEAAFQBAABcAQAAUwEAAFwBAABbAQAAVAEAAFUBAABdAQAAVAEAAF0BAABcAQAAVQEAAFYBAABeAQAAVQEAAF4BAABdAQAAVgEAAFcBAABfAQAAVgEAAF8BAABeAQAAVwEAAFABAABYAQAAVwEAAFgBAABfAQAAWAEAAFkBAABhAQAAWAEAAGEBAABgAQAAWQEAAFoBAABiAQAAWQEAAGIBAABhAQAAWgEAAFsBAABjAQAAWgEAAGMBAABiAQAAWwEAAFwBAABkAQAAWwEAAGQBAABjAQAAXAEAAF0BAABlAQAAXAEAAGUBAABkAQAAXQEAAF4BAABmAQAAXQEAAGYBAABlAQAAXgEAAF8BAABnAQAAXgEAAGcBAABmAQAAXwEAAFgBAABgAQAAXwEAAGABAABnAQAAYAEAAGEBAABpAQAAYAEAAGkBAABoAQAAYQEAAGIBAABqAQAAYQEAAGoBAABpAQAAYgEAAGMBAABrAQAAYgEAAGsBAABqAQAAYwEAAGQBAABsAQAAYwEAAGwBAABrAQAAZAEAAGUBAABtAQAAZAEAAG0BAABsAQAAZQEAAGYBAABuAQAAZQEAAG4BAABtAQAAZgEAAGcBAABvAQAAZgEAAG8BAABuAQAAZwEAAGABAABoAQAAZwEAAGgBAABvAQAAaAEAAGkBAABxAQAAaAEAAHEBAABwAQAAaQEAAGoBAAByAQAAaQEAAHIBAABxAQAAagEAAGsBAABzAQAAagEAAHMBAAByAQAAawEAAGwBAAB0AQAAawEAAHQBAABzAQAAbAEAAG0BAAB1AQAAbAEAAHUBAAB0AQAAbQEAAG4BAAB2AQAAbQEAAHYBAAB1AQAAbgEAAG8BAAB3AQAAbgEAAHcBAAB2AQAAbwEAAGgBAABwAQAAbwEAAHABAAB3AQAAeAEAAHkBAACBAQAAeAEAAIEBAACAAQAAeQEAAHoBAACCAQAAeQEAAIIBAACBAQAAegEAAHsBAACDAQAAegEAAIMBAACCAQAAewEAAHwBAACEAQAAewEAAIQBAACDAQAAfAEAAH0BAACFAQAAfAEAAIUBAACEAQAAfQEAAH4BAACGAQAAfQEAAIYBAACFAQAAfgEAAH8BAACHAQAAfgEAAIcBAACGAQAAfwEAAHgBAACAAQAAfwEAAIABAACHAQAAgAEAAIEBAACJAQAAgAEAAIkBAACIAQAAgQEAAIIBAACKAQAAgQEAAIoBAACJAQAAggEAAIMBAACLAQAAggEAAIsBAACKAQAAgwEAAIQBAACMAQAAgwEAAIwBAACLAQAAhAEAAIUBAACNAQAAhAEAAI0BAACMAQAAhQEAAIYBAACOAQAAhQEAAI4BAACNAQAAhgEAAIcBAACPAQAAhgEAAI8BAACOAQAAhwEAAIABAACIAQAAhwEAAIgBAACPAQAAiAEAAIkBAACRAQAAiAEAAJEBAACQAQAAiQEAAIoBAACSAQAAiQEAAJIBAACRAQAAigEAAIsBAACTAQAAigEAAJMBAACSAQAAiwEAAIwBAACUAQAAiwEAAJQBAACTAQAAjAEAAI0BAACVAQAAjAEAAJUBAACUAQAAjQEAAI4BAACWAQAAjQEAAJYBAACVAQAAjgEAAI8BAACXAQAAjgEAAJcBAACWAQAAjwEAAIgBAACQAQAAjwEAAJABAACXAQAAkAEAAJEBAACZAQAAkAEAAJkBAACYAQAAkQEAAJIBAACaAQAAkQEAAJoBAACZAQAAkgEAAJMBAACbAQAAkgEAAJsBAACaAQAAkwEAAJQBAACcAQAAkwEAAJwBAACbAQAAlAEAAJUBAACdAQAAlAEAAJ0BAACcAQAAlQEAAJYBAACeAQAAlQEAAJ4BAACdAQAAlgEAAJcBAACfAQAAlgEAAJ8BAACeAQAAlwEAAJABAACYAQAAlwEAAJgBAACfAQAAoAEAAKEBAACpAQAAoAEAAKkBAACoAQAAoQEAAKIBAACqAQAAoQEAAKoBAACpAQAAogEAAKMBAACrAQAAogEAAKsBAACqAQAAowEAAKQBAACsAQAAowEAAKwBAACrAQAApAEAAKUBAACtAQAApAEAAK0BAACsAQAApQEAAKYBAACuAQAApQEAAK4BAACtAQAApgEAAKcBAACvAQAApgEAAK8BAACuAQAApwEAAKABAACoAQAApwEAAKgBAACvAQAAqAEAAKkBAACxAQAAqAEAALEBAACwAQAAqQEAAKoBAACyAQAAqQEAALIBAACxAQAAqgEAAKsBAACzAQAAqgEAALMBAACyAQAAqwEAAKwBAAC0AQAAqwEAALQBAACzAQAArAEAAK0BAAC1AQAArAEAALUBAAC0AQAArQEAAK4BAAC2AQAArQEAALYBAAC1AQAArgEAAK8BAAC3AQAArgEAALcBAAC2AQAArwEAAKgBAACwAQAArwEAALABAAC3AQAAsAEAALEBAAC5AQAAsAEAALkBAAC4AQAAsQEAALIBAAC6AQAAsQEAALoBAAC5AQAAsgEAALMBAAC7AQAAsgEAALsBAAC6AQAAswEAALQBAAC8AQAAswEAALwBAAC7AQAAtAEAALUBAAC9AQAAtAEAAL0BAAC8AQAAtQEAALYBAAC+AQAAtQEAAL4BAAC9AQAAtgEAALcBAAC/AQAAtgEAAL8BAAC+AQAAtwEAALABAAC4AQAAtwEAALgBAAC/AQAAwAEAAMEBAADJAQAAwAEAAMkBAADIAQAAwQEAAMIBAADKAQAAwQEAAMoBAADJAQAAwgEAAMMBAADLAQAAwgEAAMsBAADKAQAAwwEAAMQBAADMAQAAwwEAAMwBAADLAQAAxAEAAMUBAADNAQAAxAEAAM0BAADMAQAAxQEAAMYBAADOAQAAxQEAAM4BAADNAQAAxgEAAMcBAADPAQAAxgEAAM8BAADOAQAAxwEAAMABAADIAQAAxwEAAMgBAADPAQAAyAEAAMkBAADRAQAAyAEAANEBAADQAQAAyQEAAMoBAADSAQAAyQEAANIBAADRAQAAygEAAMsBAADTAQAAygEAANMBAADSAQAAywEAAMwBAADUAQAAywEAANQBAADTAQAAzAEAAM0BAADVAQAAzAEAANUBAADUAQAAzQEAAM4BAADWAQAAzQEAANYBAADVAQAAzgEAAM8BAADXAQAAzgEAANcBAADWAQAAzwEAAMgBAADQAQAAzwEAANABAADXAQAA2AEAANkBAADhAQAA2AEAAOEBAADgAQAA2QEAANoBAADiAQAA2QEAAOIBAADhAQAA2gEAANsBAADjAQAA2gEAAOMBAADiAQAA2wEAANwBAADkAQAA2wEAAOQBAADjAQAA3AEAAN0BAADlAQAA3AEAAOUBAADkAQAA3QEAAN4BAADmAQAA3QEAAOYBAADlAQAA3gEAAN8BAADnAQAA3gEAAOcBAADmAQAA3wEAANgBAADgAQAA3wEAAOABAADnAQAA4AEAAOEBAADpAQAA4AEAAOkBAADoAQAA4QEAAOIBAADqAQAA4QEAAOoBAADpAQAA4gEAAOMBAADrAQAA4gEAAOsBAADqAQAA4wEAAOQBAADsAQAA4wEAAOwBAADrAQAA5AEAAOUBAADtAQAA5AEAAO0BAADsAQAA5QEAAOYBAADuAQAA5QEAAO4BAADtAQAA5gEAAOcBAADvAQAA5gEAAO8BAADuAQAA5wEAAOABAADoAQAA5wEAAOgBAADvAQAA6AEAAOkBAADxAQAA6AEAAPEBAADwAQAA6QEAAOoBAADyAQAA6QEAAPIBAADxAQAA6gEAAOsBAADzAQAA6gEAAPMBAADyAQAA6wEAAOwBAAD0AQAA6wEAAPQBAADzAQAA7AEAAO0BAAD1AQAA7AEAAPUBAAD0AQAA7QEAAO4BAAD2AQAA7QEAAPYBAAD1AQAA7gEAAO8BAAD3AQAA7gEAAPcBAAD2AQAA7wEAAOgBAADwAQAA7wEAAPABAAD3AQAA8AEAAPEBAAD5AQAA8AEAAPkBAAD4AQAA8QEAAPIBAAD6AQAA8QEAAPoBAAD5AQAA8gEAAPMBAAD7AQAA8gEAAPsBAAD6AQAA8wEAAPQBAAD8AQAA8wEAAPwBAAD7AQAA9AEAAPUBAAD9AQAA9AEAAP0BAAD8AQAA9QEAAPYBAAD+AQAA9QEAAP4BAAD9AQAA9gEAAPcBAAD/AQAA9gEAAP8BAAD+AQAA9wEAAPABAAD4AQAA9wEAAPgBAAD/AQAAAAIAAAECAAAJAgAAAAIAAAkCAAAIAgAAAQIAAAICAAAKAgAAAQIAAAoCAAAJAgAAAgIAAAMCAAALAgAAAgIAAAsCAAAKAgAAAwIAAAQCAAAMAgAAAwIAAAwCAAALAgAABAIAAAUCAAANAgAABAIAAA0CAAAMAgAABQIAAAYCAAAOAgAABQIAAA4CAAANAgAABgIAAAcCAAAPAgAABgIAAA8CAAAOAgAABwIAAAACAAAIAgAABwIAAAgCAAAPAgAACAIAAAkCAAARAgAACAIAABECAAAQAgAACQIAAAoCAAASAgAACQIAABICAAARAgAACgIAAAsCAAATAgAACgIAABMCAAASAgAACwIAAAwCAAAUAgAACwIAABQCAAATAgAADAIAAA0CAAAVAgAADAIAABUCAAAUAgAADQIAAA4CAAAWAgAADQIAABYCAAAVAgAADgIAAA8CAAAXAgAADgIAABcCAAAWAgAADwIAAAgCAAAQAgAADwIAABACAAAXAgAAEAIAABECAAAZAgAAEAIAABkCAAAYAgAAEQIAABICAAAaAgAAEQIAABoCAAAZAgAAEgIAABMCAAAbAgAAEgIAABsCAAAaAgAAEwIAABQCAAAcAgAAEwIAABwCAAAbAgAAFAIAABUCAAAdAgAAFAIAAB0CAAAcAgAAFQIAABYCAAAeAgAAFQIAAB4CAAAdAgAAFgIAABcCAAAfAgAAFgIAAB8CAAAeAgAAFwIAABACAAAYAgAAFwIAABgCAAAfAgAAGAIAABkCAAAhAgAAGAIAACECAAAgAgAAGQIAABoCAAAiAgAAGQIAACICAAAhAgAAGgIAABsCAAAjAgAAGgIAACMCAAAiAgAAGwIAABwCAAAkAgAAGwIAACQCAAAjAgAAHAIAAB0CAAAlAgAAHAIAACUCAAAkAgAAHQIAAB4CAAAmAgAAHQIAACYCAAAlAgAAHgIAAB8CAAAnAgAAHgIAACcCAAAmAgAAHwIAABgCAAAgAgAAHwIAACACAAAnAgAAKAIAACkCAAAxAgAAKAIAADECAAAwAgAAKQIAACoCAAAyAgAAKQIAADICAAAxAgAAKgIAACsCAAAzAgAAKgIAADMCAAAyAgAAKwIAACwCAAA0AgAAKwIAADQCAAAzAgAALAIAAC0CAAA1AgAALAIAADUCAAA0AgAALQIAAC4CAAA2AgAALQIAADYCAAA1AgAALgIAAC8CAAA3AgAALgIAADcCAAA2AgAALwIAACgCAAAwAgAALwIAADACAAA3AgAAMAIAADECAAA5AgAAMAIAADkCAAA4AgAAMQIAADICAAA6AgAAMQIAADoCAAA5AgAAMgIAADMCAAA7AgAAMgIAADsCAAA6AgAAMwIAADQCAAA8AgAAMwIAADwCAAA7AgAANAIAADUCAAA9AgAANAIAAD0CAAA8AgAANQIAADYCAAA+AgAANQIAAD4CAAA9AgAANgIAADcCAAA/AgAANgIAAD8CAAA+AgAANwIAADACAAA4AgAANwIAADgCAAA/AgAAQAIAAEECAABJAgAAQAIAAEkCAABIAgAAQQIAAEICAABKAgAAQQIAAEoCAABJAgAAQgIAAEMCAABLAgAAQgIAAEsCAABKAgAAQwIAAEQCAABMAgAAQwIAAEwCAABLAgAARAIAAEUCAABNAgAARAIAAE0CAABMAgAARQIAAEYCAABOAgAARQIAAE4CAABNAgAARgIAAEcCAABPAgAARgIAAE8CAABOAgAARwIAAEACAABIAgAARwIAAEgCAABPAgAASAIAAEkCAABRAgAASAIAAFECAABQAgAASQIAAEoCAABSAgAASQIAAFICAABRAgAASgIAAEsCAABTAgAASgIAAFMCAABSAgAASwIAAEwCAABUAgAASwIAAFQCAABTAgAATAIAAE0CAABVAgAATAIAAFUCAABUAgAATQIAAE4CAABWAgAATQIAAFYCAABVAgAATgIAAE8CAABXAgAATgIAAFcCAABWAgAATwIAAEgCAABQAgAATwIAAFACAABXAgAAUAIAAFECAABZAgAAUAIAAFkCAABYAgAAUQIAAFICAABaAgAAUQIAAFoCAABZAgAAUgIAAFMCAABbAgAAUgIAAFsCAABaAgAAUwIAAFQCAABcAgAAUwIAAFwCAABbAgAAVAIAAFUCAABdAgAAVAIAAF0CAABcAgAAVQIAAFYCAABeAgAAVQIAAF4CAABdAgAAVgIAAFcCAABfAgAAVgIAAF8CAABeAgAAVwIAAFACAABYAgAAVwIAAFgCAABfAgAAYAIAAGECAABpAgAAYAIAAGkCAABoAgAAYQIAAGICAABqAgAAYQIAAGoCAABpAgAAYgIAAGMCAABrAgAAYgIAAGsCAABqAgAAYwIAAGQCAABsAgAAYwIAAGwCAABrAgAAZAIAAGUCAABtAgAAZAIAAG0CAABsAgAAZQIAAGYCAABuAgAAZQIAAG4CAABtAgAAZgIAAGcCAABvAgAAZgIAAG8CAABuAgAAZwIAAGACAABoAgAAZwIAAGgCAABvAgAAaAIAAGkCAABxAgAAaAIAAHECAABwAgAAaQIAAGoCAAByAgAAaQIAAHICAABxAgAAagIAAGsCAABzAgAAagIAAHMCAAByAgAAawIAAGwCAAB0AgAAawIAAHQCAABzAgAAbAIAAG0CAAB1AgAAbAIAAHUCAAB0AgAAbQIAAG4CAAB2AgAAbQIAAHYCAAB1AgAAbgIAAG8CAAB3AgAAbgIAAHcCAAB2AgAAbwIAAGgCAABwAgAAbwIAAHACAAB3AgAAeAIAAHkCAACBAgAAeAIAAIECAACAAgAAeQIAAHoCAACCAgAAeQIAAIICAACBAgAAegIAAHsCAACDAgAAegIAAIMCAACCAgAAewIAAHwCAACEAgAAewIAAIQCAACDAgAAfAIAAH0CAACFAgAAfAIAAIUCAACEAgAAfQIAAH4CAACGAgAAfQIAAIYCAACFAgAAfgIAAH8CAACHAgAAfgIAAIcCAACGAgAAfwIAAHgCAACAAgAAfwIAAIACAACHAgAAgAIAAIECAACJAgAAgAIAAIkCAACIAgAAgQIAAIICAACKAgAAgQIAAIoCAACJAgAAggIAAIMCAACLAgAAggIAAIsCAACKAgAAgwIAAIQCAACMAgAAgwIAAIwCAACLAgAAhAIAAIUCAACNAgAAhAIAAI0CAACMAgAAhQIAAIYCAACOAgAAhQIAAI4CAACNAgAAhgIAAIcCAACPAgAAhgIAAI8CAACOAgAAhwIAAIACAACIAgAAhwIAAIgCAACPAgAAiAIAAIkCAACRAgAAiAIAAJECAACQAgAAiQIAAIoCAACSAgAAiQIAAJICAACRAgAAigIAAIsCAACTAgAAigIAAJMCAACSAgAAiwIAAIwCAACUAgAAiwIAAJQCAACTAgAAjAIAAI0CAACVAgAAjAIAAJUCAACUAgAAjQIAAI4CAACWAgAAjQIAAJYCAACVAgAAjgIAAI8CAACXAgAAjgIAAJcCAACWAgAAjwIAAIgCAACQAgAAjwIAAJACAACXAgAAmAIAAJkCAAChAgAAmAIAAKECAACgAgAAmQIAAJoCAACiAgAAmQIAAKICAAChAgAAmgIAAJsCAACjAgAAmgIAAKMCAACiAgAAmwIAAJwCAACkAgAAmwIAAKQCAACjAgAAnAIAAJ0CAAClAgAAnAIAAKUCAACkAgAAnQIAAJ4CAACmAgAAnQIAAKYCAAClAgAAngIAAJ8CAACnAgAAngIAAKcCAACmAgAAnwIAAJgCAACgAgAAnwIAAKACAACnAgAAoAIAAKECAACpAgAAoAIAAKkCAACoAgAAoQIAAKICAACqAgAAoQIAAKoCAACpAgAAogIAAKMCAACrAgAAogIAAKsCAACqAgAAowIAAKQCAACsAgAAowIAAKwCAACrAgAApAIAAKUCAACtAgAApAIAAK0CAACsAgAApQIAAKYCAACuAgAApQIAAK4CAACtAgAApgIAAKcCAACvAgAApgIAAK8CAACuAgAApwIAAKACAACoAgAApwIAAKgCAACvAgAAqAIAAKkCAACxAgAAqAIAALECAACwAgAAqQIAAKoCAACyAgAAqQIAALICAACxAgAAqgIAAKsCAACzAgAAqgIAALMCAACyAgAAqwIAAKwCAAC0AgAAqwIAALQCAACzAgAArAIAAK0CAAC1AgAArAIAALUCAAC0AgAArQIAAK4CAAC2AgAArQIAALYCAAC1AgAArgIAAK8CAAC3AgAArgIAALcCAAC2AgAArwIAAKgCAACwAgAArwIAALACAAC3AgAAuAIAALkCAADBAgAAuAIAAMECAADAAgAAuQIAALoCAADCAgAAuQIAAMICAADBAgAAugIAALsCAADDAgAAugIAAMMCAADCAgAAuwIAALwCAADEAgAAuwIAAMQCAADDAgAAvAIAAL0CAADFAgAAvAIAAMUCAADEAgAAvQIAAL4CAADGAgAAvQIAAMYCAADFAgAAvgIAAL8CAADHAgAAvgIAAMcCAADGAgAAvwIAALgCAADAAgAAvwIAAMACAADHAgAAwAIAAMECAADJAgAAwAIAAMkCAADIAgAAwQIAAMICAADKAgAAwQIAAMoCAADJAgAAwgIAAMMCAADLAgAAwgIAAMsCAADKAgAAwwIAAMQCAADMAgAAwwIAAMwCAADLAgAAxAIAAMUCAADNAgAAxAIAAM0CAADMAgAAxQIAAMYCAADOAgAAxQIAAM4CAADNAgAAxgIAAMcCAADPAgAAxgIAAM8CAADOAgAAxwIAAMACAADIAgAAxwIAAMgCAADPAgAA0AIAANECAADZAgAA0AIAANkCAADYAgAA0QIAANICAADaAgAA0QIAANoCAADZAgAA0gIAANMCAADbAgAA0gIAANsCAADaAgAA0wIAANQCAADcAgAA0wIAANwCAADbAgAA1AIAANUCAADdAgAA1AIAAN0CAADcAgAA1QIAANYCAADeAgAA1QIAAN4CAADdAgAA1gIAANcCAADfAgAA1gIAAN8CAADeAgAA1wIAANACAADYAgAA1wIAANgCAADfAgAA2AIAANkCAADhAgAA2AIAAOECAADgAgAA2QIAANoCAADiAgAA2QIAAOICAADhAgAA2gIAANsCAADjAgAA2gIAAOMCAADiAgAA2wIAANwCAADkAgAA2wIAAOQCAADjAgAA3AIAAN0CAADlAgAA3AIAAOUCAADkAgAA3QIAAN4CAADmAgAA3QIAAOYCAADlAgAA3gIAAN8CAADnAgAA3gIAAOcCAADmAgAA3wIAANgCAADgAgAA3wIAAOACAADnAgAA4AIAAOECAADpAgAA4AIAAOkCAADoAgAA4QIAAOICAADqAgAA4QIAAOoCAADpAgAA4gIAAOMCAADrAgAA4gIAAOsCAADqAgAA4wIAAOQCAADsAgAA4wIAAOwCAADrAgAA5AIAAOUCAADtAgAA5AIAAO0CAADsAgAA5QIAAOYCAADuAgAA5QIAAO4CAADtAgAA5gIAAOcCAADvAgAA5gIAAO8CAADuAgAA5wIAAOACAADoAgAA5wIAAOgCAADvAgAA6AIAAOkCAADxAgAA6AIAAPECAADwAgAA6QIAAOoCAADyAgAA6QIAAPICAADxAgAA6gIAAOsCAADzAgAA6gIAAPMCAADyAgAA6wIAAOwCAAD0AgAA6wIAAPQCAADzAgAA7AIAAO0CAAD1AgAA7AIAAPUCAAD0AgAA7QIAAO4CAAD2AgAA7QIAAPYCAAD1AgAA7gIAAO8CAAD3AgAA7gIAAPcCAAD2AgAA7wIAAOgCAADwAgAA7wIAAPACAAD3AgAA+AIAAPkCAAABAwAA+AIAAAEDAAAAAwAA+QIAAPoCAAACAwAA+QIAAAIDAAABAwAA+gIAAPsCAAADAwAA+gIAAAMDAAACAwAA+wIAAPwCAAAEAwAA+wIAAAQDAAADAwAA/AIAAP0CAAAFAwAA/AIAAAUDAAAEAwAA/QIAAP4CAAAGAwAA/QIAAAYDAAAFAwAA/gIAAP8CAAAHAwAA/gIAAAcDAAAGAwAA/wIAAPgCAAAAAwAA/wIAAAADAAAHAwAAAAMAAAEDAAAJAwAAAAMAAAkDAAAIAwAAAQMAAAIDAAAKAwAAAQMAAAoDAAAJAwAAAgMAAAMDAAALAwAAAgMAAAsDAAAKAwAAAwMAAAQDAAAMAwAAAwMAAAwDAAALAwAABAMAAAUDAAANAwAABAMAAA0DAAAMAwAABQMAAAYDAAAOAwAABQMAAA4DAAANAwAABgMAAAcDAAAPAwAABgMAAA8DAAAOAwAABwMAAAADAAAIAwAABwMAAAgDAAAPAwAACAMAAAkDAAARAwAACAMAABEDAAAQAwAACQMAAAoDAAASAwAACQMAABIDAAARAwAACgMAAAsDAAATAwAACgMAABMDAAASAwAACwMAAAwDAAAUAwAACwMAABQDAAATAwAADAMAAA0DAAAVAwAADAMAABUDAAAUAwAADQMAAA4DAAAWAwAADQMAABYDAAAVAwAADgMAAA8DAAAXAwAADgMAABcDAAAWAwAADwMAAAgDAAAQAwAADwMAABADAAAXAwAAGAMAABkDAAAhAwAAGAMAACEDAAAgAwAAGQMAABoDAAAiAwAAGQMAACIDAAAhAwAAGgMAABsDAAAjAwAAGgMAACMDAAAiAwAAGwMAABwDAAAkAwAAGwMAACQDAAAjAwAAHAMAAB0DAAAlAwAAHAMAACUDAAAkAwAAHQMAAB4DAAAmAwAAHQMAACYDAAAlAwAAHgMAAB8DAAAnAwAAHgMAACcDAAAmAwAAHwMAABgDAAAgAwAAHwMAACADAAAnAwAAIAMAACEDAAApAwAAIAMAACkDAAAoAwAAIQMAACIDAAAqAwAAIQMAACoDAAApAwAAIgMAACMDAAArAwAAIgMAACsDAAAqAwAAIwMAACQDAAAsAwAAIwMAACwDAAArAwAAJAMAACUDAAAtAwAAJAMAAC0DAAAsAwAAJQMAACYDAAAuAwAAJQMAAC4DAAAtAwAAJgMAACcDAAAvAwAAJgMAAC8DAAAuAwAAJwMAACADAAAoAwAAJwMAACgDAAAvAwAAKAMAACkDAAAxAwAAKAMAADEDAAAwAwAAKQMAACoDAAAyAwAAKQMAADIDAAAxAwAAKgMAACsDAAAzAwAAKgMAADMDAAAyAwAAKwMAACwDAAA0AwAAKwMAADQDAAAzAwAALAMAAC0DAAA1AwAALAMAADUDAAA0AwAALQMAAC4DAAA2AwAALQMAADYDAAA1AwAALgMAAC8DAAA3AwAALgMAADcDAAA2AwAALwMAACgDAAAwAwAALwMAADADAAA3AwAAOAMAADkDAABBAwAAOAMAAEEDAABAAwAAOQMAADoDAABCAwAAOQMAAEIDAABBAwAAOgMAADsDAABDAwAAOgMAAEMDAABCAwAAOwMAADwDAABEAwAAOwMAAEQDAABDAwAAPAMAAD0DAABFAwAAPAMAAEUDAABEAwAAPQMAAD4DAABGAwAAPQMAAEYDAABFAwAAPgMAAD8DAABHAwAAPgMAAEcDAABGAwAAPwMAADgDAABAAwAAPwMAAEADAABHAwAAQAMAAEEDAABJAwAAQAMAAEkDAABIAwAAQQMAAEIDAABKAwAAQQMAAEoDAABJAwAAQgMAAEMDAABLAwAAQgMAAEsDAABKAwAAQwMAAEQDAABMAwAAQwMAAEwDAABLAwAARAMAAEUDAABNAwAARAMAAE0DAABMAwAARQMAAEYDAABOAwAARQMAAE4DAABNAwAARgMAAEcDAABPAwAARgMAAE8DAABOAwAARwMAAEADAABIAwAARwMAAEgDAABPAwAASAMAAEkDAABRAwAASAMAAFEDAABQAwAASQMAAEoDAABSAwAASQMAAFIDAABRAwAASgMAAEsDAABTAwAASgMAAFMDAABSAwAASwMAAEwDAABUAwAASwMAAFQDAABTAwAATAMAAE0DAABVAwAATAMAAFUDAABUAwAATQMAAE4DAABWAwAATQMAAFYDAABVAwAATgMAAE8DAABXAwAATgMAAFcDAABWAwAATwMAAEgDAABQAwAATwMAAFADAABXAwAAUAMAAFEDAABZAwAAUAMAAFkDAABYAwAAUQMAAFIDAABaAwAAUQMAAFoDAABZAwAAUgMAAFMDAABbAwAAUgMAAFsDAABaAwAAUwMAAFQDAABcAwAAUwMAAFwDAABbAwAAVAMAAFUDAABdAwAAVAMAAF0DAABcAwAAVQMAAFYDAABeAwAAVQMAAF4DAABdAwAAVgMAAFcDAABfAwAAVgMAAF8DAABeAwAAVwMAAFADAABYAwAAVwMAAFgDAABfAwAAWAMAAFkDAABhAwAAWAMAAGEDAABgAwAAWQMAAFoDAABiAwAAWQMAAGIDAABhAwAAWgMAAFsDAABjAwAAWgMAAGMDAABiAwAAWwMAAFwDAABkAwAAWwMAAGQDAABjAwAAXAMAAF0DAABlAwAAXAMAAGUDAABkAwAAXQMAAF4DAABmAwAAXQMAAGYDAABlAwAAXgMAAF8DAABnAwAAXgMAAGcDAABmAwAAXwMAAFgDAABgAwAAXwMAAGADAABnAwAAYAMAAGEDAABpAwAAYAMAAGkDAABoAwAAYQMAAGIDAABqAwAAYQMAAGoDAABpAwAAYgMAAGMDAABrAwAAYgMAAGsDAABqAwAAYwMAAGQDAABsAwAAYwMAAGwDAABrAwAAZAMAAGUDAABtAwAAZAMAAG0DAABsAwAAZQMAAGYDAABuAwAAZQMAAG4DAABtAwAAZgMAAGcDAABvAwAAZgMAAG8DAABuAwAAZwMAAGADAABoAwAAZwMAAGgDAABvAwAAaAMAAGkDAABxAwAAaAMAAHEDAABwAwAAaQMAAGoDAAByAwAAaQMAAHIDAABxAwAAagMAAGsDAABzAwAAagMAAHMDAAByAwAAawMAAGwDAAB0AwAAawMAAHQDAABzAwAAbAMAAG0DAAB1AwAAbAMAAHUDAAB0AwAAbQMAAG4DAAB2AwAAbQMAAHYDAAB1AwAAbgMAAG8DAAB3AwAAbgMAAHcDAAB2AwAAbwMAAGgDAABwAwAAbwMAAHADAAB3AwAAcAMAAHEDAAB5AwAAcAMAAHkDAAB4AwAAcQMAAHIDAAB6AwAAcQMAAHoDAAB5AwAAcgMAAHMDAAB7AwAAcgMAAHsDAAB6AwAAcwMAAHQDAAB8AwAAcwMAAHwDAAB7AwAAdAMAAHUDAAB9AwAAdAMAAH0DAAB8AwAAdQMAAHYDAAB+AwAAdQMAAH4DAAB9AwAAdgMAAHcDAAB/AwAAdgMAAH8DAAB+AwAAdwMAAHADAAB4AwAAdwMAAHgDAAB/AwAAeAMAAHkDAACBAwAAeAMAAIEDAACAAwAAeQMAAHoDAACCAwAAeQMAAIIDAACBAwAAegMAAHsDAACDAwAAegMAAIMDAACCAwAAewMAAHwDAACEAwAAewMAAIQDAACDAwAAfAMAAH0DAACFAwAAfAMAAIUDAACEAwAAfQMAAH4DAACGAwAAfQMAAIYDAACFAwAAfgMAAH8DAACHAwAAfgMAAIcDAACGAwAAfwMAAHgDAACAAwAAfwMAAIADAACHAwAAgAMAAIEDAACJAwAAgAMAAIkDAACIAwAAgQMAAIIDAACKAwAAgQMAAIoDAACJAwAAggMAAIMDAACLAwAAggMAAIsDAACKAwAAgwMAAIQDAACMAwAAgwMAAIwDAACLAwAAhAMAAIUDAACNAwAAhAMAAI0DAACMAwAAhQMAAIYDAACOAwAAhQMAAI4DAACNAwAAhgMAAIcDAACPAwAAhgMAAI8DAACOAwAAhwMAAIADAACIAwAAhwMAAIgDAACPAwAAiAMAAIkDAACRAwAAiAMAAJEDAACQAwAAiQMAAIoDAACSAwAAiQMAAJIDAACRAwAAigMAAIsDAACTAwAAigMAAJMDAACSAwAAiwMAAIwDAACUAwAAiwMAAJQDAACTAwAAjAMAAI0DAACVAwAAjAMAAJUDAACUAwAAjQMAAI4DAACWAwAAjQMAAJYDAACVAwAAjgMAAI8DAACXAwAAjgMAAJcDAACWAwAAjwMAAIgDAACQAwAAjwMAAJADAACXAwAAkAMAAJEDAACZAwAAkAMAAJkDAACYAwAAkQMAAJIDAACaAwAAkQMAAJoDAACZAwAAkgMAAJMDAACbAwAAkgMAAJsDAACaAwAAkwMAAJQDAACcAwAAkwMAAJwDAACbAwAAlAMAAJUDAACdAwAAlAMAAJ0DAACcAwAAlQMAAJYDAACeAwAAlQMAAJ4DAACdAwAAlgMAAJcDAACfAwAAlgMAAJ8DAACeAwAAlwMAAJADAACYAwAAlwMAAJgDAACfAwAAoAMAAKEDAACpAwAAoAMAAKkDAACoAwAAoQMAAKIDAACqAwAAoQMAAKoDAACpAwAAogMAAKMDAACrAwAAogMAAKsDAACqAwAAowMAAKQDAACsAwAAowMAAKwDAACrAwAApAMAAKUDAACtAwAApAMAAK0DAACsAwAApQMAAKYDAACuAwAApQMAAK4DAACtAwAApgMAAKcDAACvAwAApgMAAK8DAACuAwAApwMAAKADAACoAwAApwMAAKgDAACvAwAAqAMAAKkDAACxAwAAqAMAALEDAACwAwAAqQMAAKoDAACyAwAAqQMAALIDAACxAwAAqgMAAKsDAACzAwAAqgMAALMDAACyAwAAqwMAAKwDAAC0AwAAqwMAALQDAACzAwAArAMAAK0DAAC1AwAArAMAALUDAAC0AwAArQMAAK4DAAC2AwAArQMAALYDAAC1AwAArgMAAK8DAAC3AwAArgMAALcDAAC2AwAArwMAAKgDAACwAwAArwMAALADAAC3AwAAsAMAALEDAAC5AwAAsAMAALkDAAC4AwAAsQMAALIDAAC6AwAAsQMAALoDAAC5AwAAsgMAALMDAAC7AwAAsgMAALsDAAC6AwAAswMAALQDAAC8AwAAswMAALwDAAC7AwAAtAMAALUDAAC9AwAAtAMAAL0DAAC8AwAAtQMAALYDAAC+AwAAtQMAAL4DAAC9AwAAtgMAALcDAAC/AwAAtgMAAL8DAAC+AwAAtwMAALADAAC4AwAAtwMAALgDAAC/AwAAwAMAAMEDAADJAwAAwAMAAMkDAADIAwAAwQMAAMIDAADKAwAAwQMAAMoDAADJAwAAwgMAAMMDAADLAwAAwgMAAMsDAADKAwAAwwMAAMQDAADMAwAAwwMAAMwDAADLAwAAxAMAAMUDAADNAwAAxAMAAM0DAADMAwAAxQMAAMYDAADOAwAAxQMAAM4DAADNAwAAxgMAAMcDAADPAwAAxgMAAM8DAADOAwAAxwMAAMADAADIAwAAxwMAAMgDAADPAwAAyAMAAMkDAADRAwAAyAMAANEDAADQAwAAyQMAAMoDAADSAwAAyQMAANIDAADRAwAAygMAAMsDAADTAwAAygMAANMDAADSAwAAywMAAMwDAADUAwAAywMAANQDAADTAwAAzAMAAM0DAADVAwAAzAMAANUDAADUAwAAzQMAAM4DAADWAwAAzQMAANYDAADVAwAAzgMAAM8DAADXAwAAzgMAANcDAADWAwAAzwMAAMgDAADQAwAAzwMAANADAADXAwAA0AMAANEDAADZAwAA0AMAANkDAADYAwAA0QMAANIDAADaAwAA0QMAANoDAADZAwAA0gMAANMDAADbAwAA0gMAANsDAADaAwAA0wMAANQDAADcAwAA0wMAANwDAADbAwAA1AMAANUDAADdAwAA1AMAAN0DAADcAwAA1QMAANYDAADeAwAA1QMAAN4DAADdAwAA1gMAANcDAADfAwAA1gMAAN8DAADeAwAA1wMAANADAADYAwAA1wMAANgDAADfAwAA2AMAANkDAADhAwAA2AMAAOEDAADgAwAA2QMAANoDAADiAwAA2QMAAOIDAADhAwAA2gMAANsDAADjAwAA2gMAAOMDAADiAwAA2wMAANwDAADkAwAA2wMAAOQDAADjAwAA3AMAAN0DAADlAwAA3AMAAOUDAADkAwAA3QMAAN4DAADmAwAA3QMAAOYDAADlAwAA3gMAAN8DAADnAwAA3gMAAOcDAADmAwAA3wMAANgDAADgAwAA3wMAAOADAADnAwAA4AMAAOEDAADpAwAA4AMAAOkDAADoAwAA4QMAAOIDAADqAwAA4QMAAOoDAADpAwAA4gMAAOMDAADrAwAA4gMAAOsDAADqAwAA4wMAAOQDAADsAwAA4wMAAOwDAADrAwAA5AMAAOUDAADtAwAA5AMAAO0DAADsAwAA5QMAAOYDAADuAwAA5QMAAO4DAADtAwAA5gMAAOcDAADvAwAA5gMAAO8DAADuAwAA5wMAAOADAADoAwAA5wMAAOgDAADvAwAA8AMAAPEDAAD5AwAA8AMAAPkDAAD4AwAA8QMAAPIDAAD6AwAA8QMAAPoDAAD5AwAA8gMAAPMDAAD7AwAA8gMAAPsDAAD6AwAA8wMAAPQDAAD8AwAA8wMAAPwDAAD7AwAA9AMAAPUDAAD9AwAA9AMAAP0DAAD8AwAA9QMAAPYDAAD+AwAA9QMAAP4DAAD9AwAA9gMAAPcDAAD/AwAA9gMAAP8DAAD+AwAA9wMAAPADAAD4AwAA9wMAAPgDAAD/AwAA+AMAAPkDAAABBAAA+AMAAAEEAAAABAAA+QMAAPoDAAACBAAA+QMAAAIEAAABBAAA+gMAAPsDAAADBAAA+gMAAAMEAAACBAAA+wMAAPwDAAAEBAAA+wMAAAQEAAADBAAA/AMAAP0DAAAFBAAA/AMAAAUEAAAEBAAA/QMAAP4DAAAGBAAA/QMAAAYEAAAFBAAA/gMAAP8DAAAHBAAA/gMAAAcEAAAGBAAA/wMAAPgDAAAABAAA/wMAAAAEAAAHBAAAAAQAAAEEAAAJBAAAAAQAAAkEAAAIBAAAAQQAAAIEAAAKBAAAAQQAAAoEAAAJBAAAAgQAAAMEAAALBAAAAgQAAAsEAAAKBAAAAwQAAAQEAAAMBAAAAwQAAAwEAAALBAAABAQAAAUEAAANBAAABAQAAA0EAAAMBAAABQQAAAYEAAAOBAAABQQAAA4EAAANBAAABgQAAAcEAAAPBAAABgQAAA8EAAAOBAAABwQAAAAEAAAIBAAABwQAAAgEAAAPBAAAEAQAABEEAAAZBAAAEAQAABkEAAAYBAAAEQQAABIEAAAaBAAAEQQAABoEAAAZBAAAEgQAABMEAAAbBAAAEgQAABsEAAAaBAAAEwQAABQEAAAcBAAAEwQAABwEAAAbBAAAFAQAABUEAAAdBAAAFAQAAB0EAAAcBAAAFQQAABYEAAAeBAAAFQQAAB4EAAAdBAAAFgQAABcEAAAfBAAAFgQAAB8EAAAeBAAAFwQAABAEAAAYBAAAFwQAABgEAAAfBAAAGAQAABkEAAAhBAAAGAQAACEEAAAgBAAAGQQAABoEAAAiBAAAGQQAACIEAAAhBAAAGgQAABsEAAAjBAAAGgQAACMEAAAiBAAAGwQAABwEAAAkBAAAGwQAACQEAAAjBAAAHAQAAB0EAAAlBAAAHAQAACUEAAAkBAAAHQQAAB4EAAAmBAAAHQQAACYEAAAlBAAAHgQAAB8EAAAnBAAAHgQAACcEAAAmBAAAHwQAABgEAAAgBAAAHwQAACAEAAAnBAAAIAQAACEEAAApBAAAIAQAACkEAAAoBAAAIQQAACIEAAAqBAAAIQQAACoEAAApBAAAIgQAACMEAAArBAAAIgQAACsEAAAqBAAAIwQAACQEAAAsBAAAIwQAACwEAAArBAAAJAQAACUEAAAtBAAAJAQAAC0EAAAsBAAAJQQAACYEAAAuBAAAJQQAAC4EAAAtBAAAJgQAACcEAAAvBAAAJgQAAC8EAAAuBAAAJwQAACAEAAAoBAAAJwQAACgEAAAvBAAAKAQAACkEAAAxBAAAKAQAADEEAAAwBAAAKQQAACoEAAAyBAAAKQQAADIEAAAxBAAAKgQAACsEAAAzBAAAKgQAADMEAAAyBAAAKwQAACwEAAA0BAAAKwQAADQEAAAzBAAALAQAAC0EAAA1BAAALAQAADUEAAA0BAAALQQAAC4EAAA2BAAALQQAADYEAAA1BAAALgQAAC8EAAA3BAAALgQAADcEAAA2BAAALwQAACgEAAAwBAAALwQAADAEAAA3BAAAOAQAADkEAABBBAAAOAQAAEEEAABABAAAOQQAADoEAABCBAAAOQQAAEIEAABBBAAAOgQAADsEAABDBAAAOgQAAEMEAABCBAAAOwQAADwEAABEBAAAOwQAAEQEAABDBAAAPAQAAD0EAABFBAAAPAQAAEUEAABEBAAAPQQAAD4EAABGBAAAPQQAAEYEAABFBAAAPgQAAD8EAABHBAAAPgQAAEcEAABGBAAAPwQAADgEAABABAAAPwQAAEAEAABHBAAAQAQAAEEEAABJBAAAQAQAAEkEAABIBAAAQQQAAEIEAABKBAAAQQQAAEoEAABJBAAAQgQAAEMEAABLBAAAQgQAAEsEAABKBAAAQwQAAEQEAABMBAAAQwQAAEwEAABLBAAARAQAAEUEAABNBAAARAQAAE0EAABMBAAARQQAAEYEAABOBAAARQQAAE4EAABNBAAARgQAAEcEAABPBAAARgQAAE8EAABOBAAARwQAAEAEAABIBAAARwQAAEgEAABPBAAAUAQAAFEEAABZBAAAUAQAAFkEAABYBAAAUQQAAFIEAABaBAAAUQQAAFoEAABZBAAAUgQAAFMEAABbBAAAUgQAAFsEAABaBAAAUwQAAFQEAABcBAAAUwQAAFwEAABbBAAAVAQAAFUEAABdBAAAVAQAAF0EAABcBAAAVQQAAFYEAABeBAAAVQQAAF4EAABdBAAAVgQAAFcEAABfBAAAVgQAAF8EAABeBAAAVwQAAFAEAABYBAAAVwQAAFgEAABfBAAAWAQAAFkEAABhBAAAWAQAAGEEAABgBAAAWQQAAFoEAABiBAAAWQQAAGIEAABhBAAAWgQAAFsEAABjBAAAWgQAAGMEAABiBAAAWwQAAFwEAABkBAAAWwQAAGQEAABjBAAAXAQAAF0EAABlBAAAXAQAAGUEAABkBAAAXQQAAF4EAABmBAAAXQQAAGYEAABlBAAAXgQAAF8EAABnBAAAXgQAAGcEAABmBAAAXwQAAFgEAABgBAAAXwQAAGAEAABnBAAAYAQAAGEEAABpBAAAYAQAAGkEAABoBAAAYQQAAGIEAABqBAAAYQQAAGoEAABpBAAAYgQAAGMEAABrBAAAYgQAAGsEAABqBAAAYwQAAGQEAABsBAAAYwQAAGwEAABrBAAAZAQAAGUEAABtBAAAZAQAAG0EAABsBAAAZQQAAGYEAABuBAAAZQQAAG4EAABtBAAAZgQAAGcEAABvBAAAZgQAAG8EAABuBAAAZwQAAGAEAABoBAAAZwQAAGgEAABvBAAAaAQAAGkEAABxBAAAaAQAAHEEAABwBAAAaQQAAGoEAAByBAAAaQQAAHIEAABxBAAAagQAAGsEAABzBAAAagQAAHMEAAByBAAAawQAAGwEAAB0BAAAawQAAHQEAABzBAAAbAQAAG0EAAB1BAAAbAQAAHUEAAB0BAAAbQQAAG4EAAB2BAAAbQQAAHYEAAB1BAAAbgQAAG8EAAB3BAAAbgQAAHcEAAB2BAAAbwQAAGgEAABwBAAAbwQAAHAEAAB3BAAAcAQAAHEEAAB5BAAAcAQAAHkEAAB4BAAAcQQAAHIEAAB6BAAAcQQAAHoEAAB5BAAAcgQAAHMEAAB7BAAAcgQAAHsEAAB6BAAAcwQAAHQEAAB8BAAAcwQAAHwEAAB7BAAAdAQAAHUEAAB9BAAAdAQAAH0EAAB8BAAAdQQAAHYEAAB+BAAAdQQAAH4EAAB9BAAAdgQAAHcEAAB/BAAAdgQAAH8EAAB+BAAAdwQAAHAEAAB4BAAAdwQAAHgEAAB/BAAAeAQAAHkEAACBBAAAeAQAAIEEAACABAAAeQQAAHoEAACCBAAAeQQAAIIEAACBBAAAegQAAHsEAACDBAAAegQAAIMEAACCBAAAewQAAHwEAACEBAAAewQAAIQEAACDBAAAfAQAAH0EAACFBAAAfAQAAIUEAACEBAAAfQQAAH4EAACGBAAAfQQAAIYEAACFBAAAfgQAAH8EAACHBAAAfgQAAIcEAACGBAAAfwQAAHgEAACABAAAfwQAAIAEAACHBAAAgAQAAIEEAACJBAAAgAQAAIkEAACIBAAAgQQAAIIEAACKBAAAgQQAAIoEAACJBAAAggQAAIMEAACLBAAAggQAAIsEAACKBAAAgwQAAIQEAACMBAAAgwQAAIwEAACLBAAAhAQAAIUEAACNBAAAhAQAAI0EAACMBAAAhQQAAIYEAACOBAAAhQQAAI4EAACNBAAAhgQAAIcEAACPBAAAhgQAAI8EAACOBAAAhwQAAIAEAACIBAAAhwQAAIgEAACPBAAAkAQAAJEEAACZBAAAkAQAAJkEAACYBAAAkQQAAJIEAACaBAAAkQQAAJoEAACZBAAAkgQAAJMEAACbBAAAkgQAAJsEAACaBAAAkwQAAJQEAACcBAAAkwQAAJwEAACbBAAAlAQAAJUEAACdBAAAlAQAAJ0EAACcBAAAlQQAAJYEAACeBAAAlQQAAJ4EAACdBAAAlgQAAJcEAACfBAAAlgQAAJ8EAACeBAAAlwQAAJAEAACYBAAAlwQAAJgEAACfBAAAmAQAAJkEAAChBAAAmAQAAKEEAACgBAAAmQQAAJoEAACiBAAAmQQAAKIEAAChBAAAmgQAAJsEAACjBAAAmgQAAKMEAACiBAAAmwQAAJwEAACkBAAAmwQAAKQEAACjBAAAnAQAAJ0EAAClBAAAnAQAAKUEAACkBAAAnQQAAJ4EAACmBAAAnQQAAKYEAAClBAAAngQAAJ8EAACnBAAAngQAAKcEAACmBAAAnwQAAJgEAACgBAAAnwQAAKAEAACnBAAAoAQAAKEEAACpBAAAoAQAAKkEAACoBAAAoQQAAKIEAACqBAAAoQQAAKoEAACpBAAAogQAAKMEAACrBAAAogQAAKsEAACqBAAAowQAAKQEAACsBAAAowQAAKwEAACrBAAApAQAAKUEAACtBAAApAQAAK0EAACsBAAApQQAAKYEAACuBAAApQQAAK4EAACtBAAApgQAAKcEAACvBAAApgQAAK8EAACuBAAApwQAAKAEAACoBAAApwQAAKgEAACvBAAAsAQAALEEAAC5BAAAsAQAALkEAAC4BAAAsQQAALIEAAC6BAAAsQQAALoEAAC5BAAAsgQAALMEAAC7BAAAsgQAALsEAAC6BAAAswQAALQEAAC8BAAAswQAALwEAAC7BAAAtAQAALUEAAC9BAAAtAQAAL0EAAC8BAAAtQQAALYEAAC+BAAAtQQAAL4EAAC9BAAAtgQAALcEAAC/BAAAtgQAAL8EAAC+BAAAtwQAALAEAAC4BAAAtwQAALgEAAC/BAAAuAQAALkEAADBBAAAuAQAAMEEAADABAAAuQQAALoEAADCBAAAuQQAAMIEAADBBAAAugQAALsEAADDBAAAugQAAMMEAADCBAAAuwQAALwEAADEBAAAuwQAAMQEAADDBAAAvAQAAL0EAADFBAAAvAQAAMUEAADEBAAAvQQAAL4EAADGBAAAvQQAAMYEAADFBAAAvgQAAL8EAADHBAAAvgQAAMcEAADGBAAAvwQAALgEAADABAAAvwQAAMAEAADHBAAAyAQAAMkEAADRBAAAyAQAANEEAADQBAAAyQQAAMoEAADSBAAAyQQAANIEAADRBAAAygQAAMsEAADTBAAAygQAANMEAADSBAAAywQAAMwEAADUBAAAywQAANQEAADTBAAAzAQAAM0EAADVBAAAzAQAANUEAADUBAAAzQQAAM4EAADWBAAAzQQAANYEAADVBAAAzgQAAM8EAADXBAAAzgQAANcEAADWBAAAzwQAAMgEAADQBAAAzwQAANAEAADXBAAA0AQAANEEAADZBAAA0AQAANkEAADYBAAA0QQAANIEAADaBAAA0QQAANoEAADZBAAA0gQAANMEAADbBAAA0gQAANsEAADaBAAA0wQAANQEAADcBAAA0wQAANwEAADbBAAA1AQAANUEAADdBAAA1AQAAN0EAADcBAAA1QQAANYEAADeBAAA1QQAAN4EAADdBAAA1gQAANcEAADfBAAA1gQAAN8EAADeBAAA1wQAANAEAADYBAAA1wQAANgEAADfBAAA2AQAANkEAADhBAAA2AQAAOEEAADgBAAA2QQAANoEAADiBAAA2QQAAOIEAADhBAAA2gQAANsEAADjBAAA2gQAAOMEAADiBAAA2wQAANwEAADkBAAA2wQAAOQEAADjBAAA3AQAAN0EAADlBAAA3AQAAOUEAADkBAAA3QQAAN4EAADmBAAA3QQAAOYEAADlBAAA3gQAAN8EAADnBAAA3gQAAOcEAADmBAAA3wQAANgEAADgBAAA3wQAAOAEAADnBAAA6AQAAOkEAADxBAAA6AQAAPEEAADwBAAA6QQAAOoEAADyBAAA6QQAAPIEAADxBAAA6gQAAOsEAADzBAAA6gQAAPMEAADyBAAA6wQAAOwEAAD0BAAA6wQAAPQEAADzBAAA7AQAAO0EAAD1BAAA7AQAAPUEAAD0BAAA7QQAAO4EAAD2BAAA7QQAAPYEAAD1BAAA7gQAAO8EAAD3BAAA7gQAAPcEAAD2BAAA7wQAAOgEAADwBAAA7wQAAPAEAAD3BAAA8AQAAPEEAAD5BAAA8AQAAPkEAAD4BAAA8QQAAPIEAAD6BAAA8QQAAPoEAAD5BAAA8gQAAPMEAAD7BAAA8gQAAPsEAAD6BAAA8wQAAPQEAAD8BAAA8wQAAPwEAAD7BAAA9AQAAPUEAAD9BAAA9AQAAP0EAAD8BAAA9QQAAPYEAAD+BAAA9QQAAP4EAAD9BAAA9gQAAPcEAAD/BAAA9gQAAP8EAAD+BAAA9wQAAPAEAAD4BAAA9wQAAPgEAAD/BAAA+AQAAPkEAAABBQAA+AQAAAEFAAAABQAA+QQAAPoEAAACBQAA+QQAAAIFAAABBQAA+gQAAPsEAAADBQAA+gQAAAMFAAACBQAA+wQAAPwEAAAEBQAA+wQAAAQFAAADBQAA/AQAAP0EAAAFBQAA/AQAAAUFAAAEBQAA/QQAAP4EAAAGBQAA/QQAAAYFAAAFBQAA/gQAAP8EAAAHBQAA/gQAAAcFAAAGBQAA/wQAAPgEAAAABQAA/wQAAAAFAAAHBQAACAUAAAkFAAARBQAACAUAABEFAAAQBQAACQUAAAoFAAASBQAACQUAABIFAAARBQAACgUAAAsFAAATBQAACgUAABMFAAASBQAACwUAAAwFAAAUBQAACwUAABQFAAATBQAADAUAAA0FAAAVBQAADAUAABUFAAAUBQAADQUAAA4FAAAWBQAADQUAABYFAAAVBQAADgUAAA8FAAAXBQAADgUAABcFAAAWBQAADwUAAAgFAAAQBQAADwUAABAFAAAXBQAAGAUAABkFAAAhBQAAGAUAACEFAAAgBQAAGQUAABoFAAAiBQAAGQUAACIFAAAhBQAAGgUAABsFAAAjBQAAGgUAACMFAAAiBQAAGwUAABwFAAAkBQAAGwUAACQFAAAjBQAAHAUAAB0FAAAlBQAAHAUAACUFAAAkBQAAHQUAAB4FAAAmBQAAHQUAACYFAAAlBQAAHgUAAB8FAAAnBQAAHgUAACcFAAAmBQAAHwUAABgFAAAgBQAAHwUAACAFAAAnBQAAIAUAACEFAAApBQAAIAUAACkFAAAoBQAAIQUAACIFAAAqBQAAIQUAACoFAAApBQAAIgUAACMFAAArBQAAIgUAACsFAAAqBQAAIwUAACQFAAAsBQAAIwUAACwFAAArBQAAJAUAACUFAAAtBQAAJAUAAC0FAAAsBQAAJQUAACYFAAAuBQAAJQUAAC4FAAAtBQAAJgUAACcFAAAvBQAAJgUAAC8FAAAuBQAAJwUAACAFAAAoBQAAJwUAACgFAAAvBQAAMAUAADEFAAA5BQAAMAUAADkFAAA4BQAAMQUAADIFAAA6BQAAMQUAADoFAAA5BQAAMgUAADMFAAA7BQAAMgUAADsFAAA6BQAAMwUAADQFAAA8BQAAMwUAADwFAAA7BQAANAUAADUFAAA9BQAANAUAAD0FAAA8BQAANQUAADYFAAA+BQAANQUAAD4FAAA9BQAANgUAADcFAAA/BQAANgUAAD8FAAA+BQAANwUAADAFAAA4BQAANwUAADgFAAA/BQAAOAUAADkFAABBBQAAOAUAAEEFAABABQAAOQUAADoFAABCBQAAOQUAAEIFAABBBQAAOgUAADsFAABDBQAAOgUAAEMFAABCBQAAOwUAADwFAABEBQAAOwUAAEQFAABDBQAAPAUAAD0FAABFBQAAPAUAAEUFAABEBQAAPQUAAD4FAABGBQAAPQUAAEYFAABFBQAAPgUAAD8FAABHBQAAPgUAAEcFAABGBQAAPwUAADgFAABABQAAPwUAAEAFAABHBQAASAUAAEkFAABRBQAASAUAAFEFAABQBQAASQUAAEoFAABSBQAASQUAAFIFAABRBQAASgUAAEsFAABTBQAASgUAAFMFAABSBQAASwUAAEwFAABUBQAASwUAAFQFAABTBQAATAUAAE0FAABVBQAATAUAAFUFAABUBQAATQUAAE4FAABWBQAATQUAAFYFAABVBQAATgUAAE8FAABXBQAATgUAAFcFAABWBQAATwUAAEgFAABQBQAATwUAAFAFAABXBQAAWAUAAFkFAABhBQAAWAUAAGEFAABgBQAAWQUAAFoFAABiBQAAWQUAAGIFAABhBQAAWgUAAFsFAABjBQAAWgUAAGMFAABiBQAAWwUAAFwFAABkBQAAWwUAAGQFAABjBQAAXAUAAF0FAABlBQAAXAUAAGUFAABkBQAAXQUAAF4FAABmBQAAXQUAAGYFAABlBQAAXgUAAF8FAABnBQAAXgUAAGcFAABmBQAAXwUAAFgFAABgBQAAXwUAAGAFAABnBQAAYAUAAGEFAABpBQAAYAUAAGkFAABoBQAAYQUAAGIFAABqBQAAYQUAAGoFAABpBQAAYgUAAGMFAABrBQAAYgUAAGsFAABqBQAAYwUAAGQFAABsBQAAYwUAAGwFAABrBQAAZAUAAGUFAABtBQAAZAUAAG0FAABsBQAAZQUAAGYFAABuBQAAZQUAAG4FAABtBQAAZgUAAGcFAABvBQAAZgUAAG8FAABuBQAAZwUAAGAFAABoBQAAZwUAAGgFAABvBQAAaAUAAGkFAABxBQAAaAUAAHEFAABwBQAAaQUAAGoFAAByBQAAaQUAAHIFAABxBQAAagUAAGsFAABzBQAAagUAAHMFAAByBQAAawUAAGwFAAB0BQAAawUAAHQFAABzBQAAbAUAAG0FAAB1BQAAbAUAAHUFAAB0BQAAbQUAAG4FAAB2BQAAbQUAAHYFAAB1BQAAbgUAAG8FAAB3BQAAbgUAAHcFAAB2BQAAbwUAAGgFAABwBQAAbwUAAHAFAAB3BQAAeAUAAHkFAACBBQAAeAUAAIEFAACABQAAeQUAAHoFAACCBQAAeQUAAIIFAACBBQAAegUAAHsFAACDBQAAegUAAIMFAACCBQAAewUAAHwFAACEBQAAewUAAIQFAACDBQAAfAUAAH0FAACFBQAAfAUAAIUFAACEBQAAfQUAAH4FAACGBQAAfQUAAIYFAACFBQAAfgUAAH8FAACHBQAAfgUAAIcFAACGBQAAfwUAAHgFAACABQAAfwUAAIAFAACHBQAAgAUAAIEFAACJBQAAgAUAAIkFAACIBQAAgQUAAIIFAACKBQAAgQUAAIoFAACJBQAAggUAAIMFAACLBQAAggUAAIsFAACKBQAAgwUAAIQFAACMBQAAgwUAAIwFAACLBQAAhAUAAIUFAACNBQAAhAUAAI0FAACMBQAAhQUAAIYFAACOBQAAhQUAAI4FAACNBQAAhgUAAIcFAACPBQAAhgUAAI8FAACOBQAAhwUAAIAFAACIBQAAhwUAAIgFAACPBQAAkAUAAJEFAACZBQAAkAUAAJkFAACYBQAAkQUAAJIFAACaBQAAkQUAAJoFAACZBQAAkgUAAJMFAACbBQAAkgUAAJsFAACaBQAAkwUAAJQFAACcBQAAkwUAAJwFAACbBQAAlAUAAJUFAACdBQAAlAUAAJ0FAACcBQAAlQUAAJYFAACeBQAAlQUAAJ4FAACdBQAAlgUAAJcFAACfBQAAlgUAAJ8FAACeBQAAlwUAAJAFAACYBQAAlwUAAJgFAACfBQAAmAUAAJkFAAChBQAAmAUAAKEFAACgBQAAmQUAAJoFAACiBQAAmQUAAKIFAAChBQAAmgUAAJsFAACjBQAAmgUAAKMFAACiBQAAmwUAAJwFAACkBQAAmwUAAKQFAACjBQAAnAUAAJ0FAAClBQAAnAUAAKUFAACkBQAAnQUAAJ4FAACmBQAAnQUAAKYFAAClBQAAngUAAJ8FAACnBQAAngUAAKcFAACmBQAAnwUAAJgFAACgBQAAnwUAAKAFAACnBQAAqAUAAKkFAACxBQAAqAUAALEFAACwBQAAqQUAAKoFAACyBQAAqQUAALIFAACxBQAAqgUAAKsFAACzBQAAqgUAALMFAACyBQAAqwUAAKwFAAC0BQAAqwUAALQFAACzBQAArAUAAK0FAAC1BQAArAUAALUFAAC0BQAArQUAAK4FAAC2BQAArQUAALYFAAC1BQAArgUAAK8FAAC3BQAArgUAALcFAAC2BQAArwUAAKgFAACwBQAArwUAALAFAAC3BQAAsAUAALEFAAC5BQAAsAUAALkFAAC4BQAAsQUAALIFAAC6BQAAsQUAALoFAAC5BQAAsgUAALMFAAC7BQAAsgUAALsFAAC6BQAAswUAALQFAAC8BQAAswUAALwFAAC7BQAAtAUAALUFAAC9BQAAtAUAAL0FAAC8BQAAtQUAALYFAAC+BQAAtQUAAL4FAAC9BQAAtgUAALcFAAC/BQAAtgUAAL8FAAC+BQAAtwUAALAFAAC4BQAAtwUAALgFAAC/BQAAwAUAAMEFAADJBQAAwAUAAMkFAADIBQAAwQUAAMIFAADKBQAAwQUAAMoFAADJBQAAwgUAAMMFAADLBQAAwgUAAMsFAADKBQAAwwUAAMQFAADMBQAAwwUAAMwFAADLBQAAxAUAAMUFAADNBQAAxAUAAM0FAADMBQAAxQUAAMYFAADOBQAAxQUAAM4FAADNBQAAxgUAAMcFAADPBQAAxgUAAM8FAADOBQAAxwUAAMAFAADIBQAAxwUAAMgFAADPBQAAyAUAAMkFAADRBQAAyAUAANEFAADQBQAAyQUAAMoFAADSBQAAyQUAANIFAADRBQAAygUAAMsFAADTBQAAygUAANMFAADSBQAAywUAAMwFAADUBQAAywUAANQFAADTBQAAzAUAAM0FAADVBQAAzAUAANUFAADUBQAAzQUAAM4FAADWBQAAzQUAANYFAADVBQAAzgUAAM8FAADXBQAAzgUAANcFAADWBQAAzwUAAMgFAADQBQAAzwUAANAFAADXBQAA0AUAANEFAADZBQAA0AUAANkFAADYBQAA0QUAANIFAADaBQAA0QUAANoFAADZBQAA0gUAANMFAADbBQAA0gUAANsFAADaBQAA0wUAANQFAADcBQAA0wUAANwFAADbBQAA1AUAANUFAADdBQAA1AUAAN0FAADcBQAA1QUAANYFAADeBQAA1QUAAN4FAADdBQAA1gUAANcFAADfBQAA1gUAAN8FAADeBQAA1wUAANAFAADYBQAA1wUAANgFAADfBQAA4AUAAOEFAADpBQAA4AUAAOkFAADoBQAA4QUAAOIFAADqBQAA4QUAAOoFAADpBQAA4gUAAOMFAADrBQAA4gUAAOsFAADqBQAA4wUAAOQFAADsBQAA4wUAAOwFAADrBQAA5AUAAOUFAADtBQAA5AUAAO0FAADsBQAA5QUAAOYFAADuBQAA5QUAAO4FAADtBQAA5gUAAOcFAADvBQAA5gUAAO8FAADuBQAA5wUAAOAFAADoBQAA5wUAAOgFAADvBQAA6AUAAOkFAADxBQAA6AUAAPEFAADwBQAA6QUAAOoFAADyBQAA6QUAAPIFAADxBQAA6gUAAOsFAADzBQAA6gUAAPMFAADyBQAA6wUAAOwFAAD0BQAA6wUAAPQFAADzBQAA7AUAAO0FAAD1BQAA7AUAAPUFAAD0BQAA7QUAAO4FAAD2BQAA7QUAAPYFAAD1BQAA7gUAAO8FAAD3BQAA7gUAAPcFAAD2BQAA7wUAAOgFAADwBQAA7wUAAPAFAAD3BQAA+AUAAPkFAAABBgAA+AUAAAEGAAAABgAA+QUAAPoFAAACBgAA+QUAAAIGAAABBgAA+gUAAPsFAAADBgAA+gUAAAMGAAACBgAA+wUAAPwFAAAEBgAA+wUAAAQGAAADBgAA/AUAAP0FAAAFBgAA/AUAAAUGAAAEBgAA/QUAAP4FAAAGBgAA/QUAAAYGAAAFBgAA/gUAAP8FAAAHBgAA/gUAAAcGAAAGBgAA/wUAAPgFAAAABgAA/wUAAAAGAAAHBgAAAAYAAAEGAAAJBgAAAAYAAAkGAAAIBgAAAQYAAAIGAAAKBgAAAQYAAAoGAAAJBgAAAgYAAAMGAAALBgAAAgYAAAsGAAAKBgAAAwYAAAQGAAAMBgAAAwYAAAwGAAALBgAABAYAAAUGAAANBgAABAYAAA0GAAAMBgAABQYAAAYGAAAOBgAABQYAAA4GAAANBgAABgYAAAcGAAAPBgAABgYAAA8GAAAOBgAABwYAAAAGAAAIBgAABwYAAAgGAAAPBgAACAYAAAkGAAARBgAACAYAABEGAAAQBgAACQYAAAoGAAASBgAACQYAABIGAAARBgAACgYAAAsGAAATBgAACgYAABMGAAASBgAACwYAAAwGAAAUBgAACwYAABQGAAATBgAADAYAAA0GAAAVBgAADAYAABUGAAAUBgAADQYAAA4GAAAWBgAADQYAABYGAAAVBgAADgYAAA8GAAAXBgAADgYAABcGAAAWBgAADwYAAAgGAAAQBgAADwYAABAGAAAXBgAAEAYAABEGAAAZBgAAEAYAABkGAAAYBgAAEQYAABIGAAAaBgAAEQYAABoGAAAZBgAAEgYAABMGAAAbBgAAEgYAABsGAAAaBgAAEwYAABQGAAAcBgAAEwYAABwGAAAbBgAAFAYAABUGAAAdBgAAFAYAAB0GAAAcBgAAFQYAABYGAAAeBgAAFQYAAB4GAAAdBgAAFgYAABcGAAAfBgAAFgYAAB8GAAAeBgAAFwYAABAGAAAYBgAAFwYAABgGAAAfBgAAIAYAACEGAAApBgAAIAYAACkGAAAoBgAAIQYAACIGAAAqBgAAIQYAACoGAAApBgAAIgYAACMGAAArBgAAIgYAACsGAAAqBgAAIwYAACQGAAAsBgAAIwYAACwGAAArBgAAJAYAACUGAAAtBgAAJAYAAC0GAAAsBgAAJQYAACYGAAAuBgAAJQYAAC4GAAAtBgAAJgYAACcGAAAvBgAAJgYAAC8GAAAuBgAAJwYAACAGAAAoBgAAJwYAACgGAAAvBgAAKAYAACkGAAAxBgAAKAYAADEGAAAwBgAAKQYAACoGAAAyBgAAKQYAADIGAAAxBgAAKgYAACsGAAAzBgAAKgYAADMGAAAyBgAAKwYAACwGAAA0BgAAKwYAADQGAAAzBgAALAYAAC0GAAA1BgAALAYAADUGAAA0BgAALQYAAC4GAAA2BgAALQYAADYGAAA1BgAALgYAAC8GAAA3BgAALgYAADcGAAA2BgAALwYAACgGAAAwBgAALwYAADAGAAA3BgAAOAYAADkGAABBBgAAOAYAAEEGAABABgAAOQYAADoGAABCBgAAOQYAAEIGAABBBgAAOgYAADsGAABDBgAAOgYAAEMGAABCBgAAOwYAADwGAABEBgAAOwYAAEQGAABDBgAAPAYAAD0GAABFBgAAPAYAAEUGAABEBgAAPQYAAD4GAABGBgAAPQYAAEYGAABFBgAAPgYAAD8GAABHBgAAPgYAAEcGAABGBgAAPwYAADgGAABABgAAPwYAAEAGAABHBgAAQAYAAEEGAABJBgAAQAYAAEkGAABIBgAAQQYAAEIGAABKBgAAQQYAAEoGAABJBgAAQgYAAEMGAABLBgAAQgYAAEsGAABKBgAAQwYAAEQGAABMBgAAQwYAAEwGAABLBgAARAYAAEUGAABNBgAARAYAAE0GAABMBgAARQYAAEYGAABOBgAARQYAAE4GAABNBgAARgYAAEcGAABPBgAARgYAAE8GAABOBgAARwYAAEAGAABIBgAARwYAAEgGAABPBgAASAYAAEkGAABRBgAASAYAAFEGAABQBgAASQYAAEoGAABSBgAASQYAAFIGAABRBgAASgYAAEsGAABTBgAASgYAAFMGAABSBgAASwYAAEwGAABUBgAASwYAAFQGAABTBgAATAYAAE0GAABVBgAATAYAAFUGAABUBgAATQYAAE4GAABWBgAATQYAAFYGAABVBgAATgYAAE8GAABXBgAATgYAAFcGAABWBgAATwYAAEgGAABQBgAATwYAAFAGAABXBgAAWAYAAFkGAABhBgAAWAYAAGEGAABgBgAAWQYAAFoGAABiBgAAWQYAAGIGAABhBgAAWgYAAFsGAABjBgAAWgYAAGMGAABiBgAAWwYAAFwGAABkBgAAWwYAAGQGAABjBgAAXAYAAF0GAABlBgAAXAYAAGUGAABkBgAAXQYAAF4GAABmBgAAXQYAAGYGAABlBgAAXgYAAF8GAABnBgAAXgYAAGcGAABmBgAAXwYAAFgGAABgBgAAXwYAAGAGAABnBgAAYAYAAGEGAABpBgAAYAYAAGkGAABoBgAAYQYAAGIGAABqBgAAYQYAAGoGAABpBgAAYgYAAGMGAABrBgAAYgYAAGsGAABqBgAAYwYAAGQGAABsBgAAYwYAAGwGAABrBgAAZAYAAGUGAABtBgAAZAYAAG0GAABsBgAAZQYAAGYGAABuBgAAZQYAAG4GAABtBgAAZgYAAGcGAABvBgAAZgYAAG8GAABuBgAAZwYAAGAGAABoBgAAZwYAAGgGAABvBgAAcAYAAHEGAAB5BgAAcAYAAHkGAAB4BgAAcQYAAHIGAAB6BgAAcQYAAHoGAAB5BgAAcgYAAHMGAAB7BgAAcgYAAHsGAAB6BgAAcwYAAHQGAAB8BgAAcwYAAHwGAAB7BgAAdAYAAHUGAAB9BgAAdAYAAH0GAAB8BgAAdQYAAHYGAAB+BgAAdQYAAH4GAAB9BgAAdgYAAHcGAAB/BgAAdgYAAH8GAAB+BgAAdwYAAHAGAAB4BgAAdwYAAHgGAAB/BgAAeAYAAHkGAACBBgAAeAYAAIEGAACABgAAeQYAAHoGAACCBgAAeQYAAIIGAACBBgAAegYAAHsGAACDBgAAegYAAIMGAACCBgAAewYAAHwGAACEBgAAewYAAIQGAACDBgAAfAYAAH0GAACFBgAAfAYAAIUGAACEBgAAfQYAAH4GAACGBgAAfQYAAIYGAACFBgAAfgYAAH8GAACHBgAAfgYAAIcGAACGBgAAfwYAAHgGAACABgAAfwYAAIAGAACHBgAAgAYAAIEGAACJBgAAgAYAAIkGAACIBgAAgQYAAIIGAACKBgAAgQYAAIoGAACJBgAAggYAAIMGAACLBgAAggYAAIsGAACKBgAAgwYAAIQGAACMBgAAgwYAAIwGAACLBgAAhAYAAIUGAACNBgAAhAYAAI0GAACMBgAAhQYAAIYGAACOBgAAhQYAAI4GAACNBgAAhgYAAIcGAACPBgAAhgYAAI8GAACOBgAAhwYAAIAGAACIBgAAhwYAAIgGAACPBgAAiAYAAIkGAACRBgAAiAYAAJEGAACQBgAAiQYAAIoGAACSBgAAiQYAAJIGAACRBgAAigYAAIsGAACTBgAAigYAAJMGAACSBgAAiwYAAIwGAACUBgAAiwYAAJQGAACTBgAAjAYAAI0GAACVBgAAjAYAAJUGAACUBgAAjQYAAI4GAACWBgAAjQYAAJYGAACVBgAAjgYAAI8GAACXBgAAjgYAAJcGAACWBgAAjwYAAIgGAACQBgAAjwYAAJAGAACXBgAAmAYAAJkGAAChBgAAmAYAAKEGAACgBgAAmQYAAJoGAACiBgAAmQYAAKIGAAChBgAAmgYAAJsGAACjBgAAmgYAAKMGAACiBgAAmwYAAJwGAACkBgAAmwYAAKQGAACjBgAAnAYAAJ0GAAClBgAAnAYAAKUGAACkBgAAnQYAAJ4GAACmBgAAnQYAAKYGAAClBgAAngYAAJ8GAACnBgAAngYAAKcGAACmBgAAnwYAAJgGAACgBgAAnwYAAKAGAACnBgAAoAYAAKEGAACpBgAAoAYAAKkGAACoBgAAoQYAAKIGAACqBgAAoQYAAKoGAACpBgAAogYAAKMGAACrBgAAogYAAKsGAACqBgAAowYAAKQGAACsBgAAowYAAKwGAACrBgAApAYAAKUGAACtBgAApAYAAK0GAACsBgAApQYAAKYGAACuBgAApQYAAK4GAACtBgAApgYAAKcGAACvBgAApgYAAK8GAACuBgAApwYAAKAGAACoBgAApwYAAKgGAACvBgAAsAYAALEGAAC5BgAAsAYAALkGAAC4BgAAsQYAALIGAAC6BgAAsQYAALoGAAC5BgAAsgYAALMGAAC7BgAAsgYAALsGAAC6BgAAswYAALQGAAC8BgAAswYAALwGAAC7BgAAtAYAALUGAAC9BgAAtAYAAL0GAAC8BgAAtQYAALYGAAC+BgAAtQYAAL4GAAC9BgAAtgYAALcGAAC/BgAAtgYAAL8GAAC+BgAAtwYAALAGAAC4BgAAtwYAALgGAAC/BgAAuAYAALkGAADBBgAAuAYAAMEGAADABgAAuQYAALoGAADCBgAAuQYAAMIGAADBBgAAugYAALsGAADDBgAAugYAAMMGAADCBgAAuwYAALwGAADEBgAAuwYAAMQGAADDBgAAvAYAAL0GAADFBgAAvAYAAMUGAADEBgAAvQYAAL4GAADGBgAAvQYAAMYGAADFBgAAvgYAAL8GAADHBgAAvgYAAMcGAADGBgAAvwYAALgGAADABgAAvwYAAMAGAADHBgAAwAYAAMEGAADJBgAAwAYAAMkGAADIBgAAwQYAAMIGAADKBgAAwQYAAMoGAADJBgAAwgYAAMMGAADLBgAAwgYAAMsGAADKBgAAwwYAAMQGAADMBgAAwwYAAMwGAADLBgAAxAYAAMUGAADNBgAAxAYAAM0GAADMBgAAxQYAAMYGAADOBgAAxQYAAM4GAADNBgAAxgYAAMcGAADPBgAAxgYAAM8GAADOBgAAxwYAAMAGAADIBgAAxwYAAMgGAADPBgAAyAYAAMkGAADRBgAAyAYAANEGAADQBgAAyQYAAMoGAADSBgAAyQYAANIGAADRBgAAygYAAMsGAADTBgAAygYAANMGAADSBgAAywYAAMwGAADUBgAAywYAANQGAADTBgAAzAYAAM0GAADVBgAAzAYAANUGAADUBgAAzQYAAM4GAADWBgAAzQYAANYGAADVBgAAzgYAAM8GAADXBgAAzgYAANcGAADWBgAAzwYAAMgGAADQBgAAzwYAANAGAADXBgAA0AYAANEGAADZBgAA0AYAANkGAADYBgAA0QYAANIGAADaBgAA0QYAANoGAADZBgAA0gYAANMGAADbBgAA0gYAANsGAADaBgAA0wYAANQGAADcBgAA0wYAANwGAADbBgAA1AYAANUGAADdBgAA1AYAAN0GAADcBgAA1QYAANYGAADeBgAA1QYAAN4GAADdBgAA1gYAANcGAADfBgAA1gYAAN8GAADeBgAA1wYAANAGAADYBgAA1wYAANgGAADfBgAA2AYAANkGAADhBgAA2AYAAOEGAADgBgAA2QYAANoGAADiBgAA2QYAAOIGAADhBgAA2gYAANsGAADjBgAA2gYAAOMGAADiBgAA2wYAANwGAADkBgAA2wYAAOQGAADjBgAA3AYAAN0GAADlBgAA3AYAAOUGAADkBgAA3QYAAN4GAADmBgAA3QYAAOYGAADlBgAA3gYAAN8GAADnBgAA3gYAAOcGAADmBgAA3wYAANgGAADgBgAA3wYAAOAGAADnBgAA6AYAAOkGAADxBgAA6AYAAPEGAADwBgAA6QYAAOoGAADyBgAA6QYAAPIGAADxBgAA6gYAAOsGAADzBgAA6gYAAPMGAADyBgAA6wYAAOwGAAD0BgAA6wYAAPQGAADzBgAA7AYAAO0GAAD1BgAA7AYAAPUGAAD0BgAA7QYAAO4GAAD2BgAA7QYAAPYGAAD1BgAA7gYAAO8GAAD3BgAA7gYAAPcGAAD2BgAA7wYAAOgGAADwBgAA7wYAAPAGAAD3BgAA8AYAAPEGAAD5BgAA8AYAAPkGAAD4BgAA8QYAAPIGAAD6BgAA8QYAAPoGAAD5BgAA8gYAAPMGAAD7BgAA8gYAAPsGAAD6BgAA8wYAAPQGAAD8BgAA8wYAAPwGAAD7BgAA9AYAAPUGAAD9BgAA9AYAAP0GAAD8BgAA9QYAAPYGAAD+BgAA9QYAAP4GAAD9BgAA9gYAAPcGAAD/BgAA9gYAAP8GAAD+BgAA9wYAAPAGAAD4BgAA9wYAAPgGAAD/BgAAAAcAAAEHAAAJBwAAAAcAAAkHAAAIBwAAAQcAAAIHAAAKBwAAAQcAAAoHAAAJBwAAAgcAAAMHAAALBwAAAgcAAAsHAAAKBwAAAwcAAAQHAAAMBwAAAwcAAAwHAAALBwAABAcAAAUHAAANBwAABAcAAA0HAAAMBwAABQcAAAYHAAAOBwAABQcAAA4HAAANBwAABgcAAAcHAAAPBwAABgcAAA8HAAAOBwAABwcAAAAHAAAIBwAABwcAAAgHAAAPBwAACAcAAAkHAAARBwAACAcAABEHAAAQBwAACQcAAAoHAAASBwAACQcAABIHAAARBwAACgcAAAsHAAATBwAACgcAABMHAAASBwAACwcAAAwHAAAUBwAACwcAABQHAAATBwAADAcAAA0HAAAVBwAADAcAABUHAAAUBwAADQcAAA4HAAAWBwAADQcAABYHAAAVBwAADgcAAA8HAAAXBwAADgcAABcHAAAWBwAADwcAAAgHAAAQBwAADwcAABAHAAAXBwAAEAcAABEHAAAZBwAAEAcAABkHAAAYBwAAEQcAABIHAAAaBwAAEQcAABoHAAAZBwAAEgcAABMHAAAbBwAAEgcAABsHAAAaBwAAEwcAABQHAAAcBwAAEwcAABwHAAAbBwAAFAcAABUHAAAdBwAAFAcAAB0HAAAcBwAAFQcAABYHAAAeBwAAFQcAAB4HAAAdBwAAFgcAABcHAAAfBwAAFgcAAB8HAAAeBwAAFwcAABAHAAAYBwAAFwcAABgHAAAfBwAAGAcAABkHAAAhBwAAGAcAACEHAAAgBwAAGQcAABoHAAAiBwAAGQcAACIHAAAhBwAAGgcAABsHAAAjBwAAGgcAACMHAAAiBwAAGwcAABwHAAAkBwAAGwcAACQHAAAjBwAAHAcAAB0HAAAlBwAAHAcAACUHAAAkBwAAHQcAAB4HAAAmBwAAHQcAACYHAAAlBwAAHgcAAB8HAAAnBwAAHgcAACcHAAAmBwAAHwcAABgHAAAgBwAAHwcAACAHAAAnBwAAIAcAACEHAAApBwAAIAcAACkHAAAoBwAAIQcAACIHAAAqBwAAIQcAACoHAAApBwAAIgcAACMHAAArBwAAIgcAACsHAAAqBwAAIwcAACQHAAAsBwAAIwcAACwHAAArBwAAJAcAACUHAAAtBwAAJAcAAC0HAAAsBwAAJQcAACYHAAAuBwAAJQcAAC4HAAAtBwAAJgcAACcHAAAvBwAAJgcAAC8HAAAuBwAAJwcAACAHAAAoBwAAJwcAACgHAAAvBwAAMAcAADEHAAA5BwAAMAcAADkHAAA4BwAAMQcAADIHAAA6BwAAMQcAADoHAAA5BwAAMgcAADMHAAA7BwAAMgcAADsHAAA6BwAAMwcAADQHAAA8BwAAMwcAADwHAAA7BwAANAcAADUHAAA9BwAANAcAAD0HAAA8BwAANQcAADYHAAA+BwAANQcAAD4HAAA9BwAANgcAADcHAAA/BwAANgcAAD8HAAA+BwAANwcAADAHAAA4BwAANwcAADgHAAA/BwAAOAcAADkHAABBBwAAOAcAAEEHAABABwAAOQcAADoHAABCBwAAOQcAAEIHAABBBwAAOgcAADsHAABDBwAAOgcAAEMHAABCBwAAOwcAADwHAABEBwAAOwcAAEQHAABDBwAAPAcAAD0HAABFBwAAPAcAAEUHAABEBwAAPQcAAD4HAABGBwAAPQcAAEYHAABFBwAAPgcAAD8HAABHBwAAPgcAAEcHAABGBwAAPwcAADgHAABABwAAPwcAAEAHAABHBwAASAcAAEkHAABRBwAASAcAAFEHAABQBwAASQcAAEoHAABSBwAASQcAAFIHAABRBwAASgcAAEsHAABTBwAASgcAAFMHAABSBwAASwcAAEwHAABUBwAASwcAAFQHAABTBwAATAcAAE0HAABVBwAATAcAAFUHAABUBwAATQcAAE4HAABWBwAATQcAAFYHAABVBwAATgcAAE8HAABXBwAATgcAAFcHAABWBwAATwcAAEgHAABQBwAATwcAAFAHAABXBwAAUAcAAFEHAABZBwAAUAcAAFkHAABYBwAAUQcAAFIHAABaBwAAUQcAAFoHAABZBwAAUgcAAFMHAABbBwAAUgcAAFsHAABaBwAAUwcAAFQHAABcBwAAUwcAAFwHAABbBwAAVAcAAFUHAABdBwAAVAcAAF0HAABcBwAAVQcAAFYHAABeBwAAVQcAAF4HAABdBwAAVgcAAFcHAABfBwAAVgcAAF8HAABeBwAAVwcAAFAHAABYBwAAVwcAAFgHAABfBwAAWAcAAFkHAABhBwAAWAcAAGEHAABgBwAAWQcAAFoHAABiBwAAWQcAAGIHAABhBwAAWgcAAFsHAABjBwAAWgcAAGMHAABiBwAAWwcAAFwHAABkBwAAWwcAAGQHAABjBwAAXAcAAF0HAABlBwAAXAcAAGUHAABkBwAAXQcAAF4HAABmBwAAXQcAAGYHAABlBwAAXgcAAF8HAABnBwAAXgcAAGcHAABmBwAAXwcAAFgHAABgBwAAXwcAAGAHAABnBwAAYAcAAGEHAABpBwAAYAcAAGkHAABoBwAAYQcAAGIHAABqBwAAYQcAAGoHAABpBwAAYgcAAGMHAABrBwAAYgcAAGsHAABqBwAAYwcAAGQHAABsBwAAYwcAAGwHAABrBwAAZAcAAGUHAABtBwAAZAcAAG0HAABsBwAAZQcAAGYHAABuBwAAZQcAAG4HAABtBwAAZgcAAGcHAABvBwAAZgcAAG8HAABuBwAAZwcAAGAHAABoBwAAZwcAAGgHAABvBwAAaAcAAGkHAABxBwAAaAcAAHEHAABwBwAAaQcAAGoHAAByBwAAaQcAAHIHAABxBwAAagcAAGsHAABzBwAAagcAAHMHAAByBwAAawcAAGwHAAB0BwAAawcAAHQHAABzBwAAbAcAAG0HAAB1BwAAbAcAAHUHAAB0BwAAbQcAAG4HAAB2BwAAbQcAAHYHAAB1BwAAbgcAAG8HAAB3BwAAbgcAAHcHAAB2BwAAbwcAAGgHAABwBwAAbwcAAHAHAAB3BwAAeAcAAHkHAACBBwAAeAcAAIEHAACABwAAeQcAAHoHAACCBwAAeQcAAIIHAACBBwAAegcAAHsHAACDBwAAegcAAIMHAACCBwAAewcAAHwHAACEBwAAewcAAIQHAACDBwAAfAcAAH0HAACFBwAAfAcAAIUHAACEBwAAfQcAAH4HAACGBwAAfQcAAIYHAACFBwAAfgcAAH8HAACHBwAAfgcAAIcHAACGBwAAfwcAAHgHAACABwAAfwcAAIAHAACHBwAAgAcAAIEHAACJBwAAgAcAAIkHAACIBwAAgQcAAIIHAACKBwAAgQcAAIoHAACJBwAAggcAAIMHAACLBwAAggcAAIsHAACKBwAAgwcAAIQHAACMBwAAgwcAAIwHAACLBwAAhAcAAIUHAACNBwAAhAcAAI0HAACMBwAAhQcAAIYHAACOBwAAhQcAAI4HAACNBwAAhgcAAIcHAACPBwAAhgcAAI8HAACOBwAAhwcAAIAHAACIBwAAhwcAAIgHAACPBwAAiAcAAIkHAACRBwAAiAcAAJEHAACQBwAAiQcAAIoHAACSBwAAiQcAAJIHAACRBwAAigcAAIsHAACTBwAAigcAAJMHAACSBwAAiwcAAIwHAACUBwAAiwcAAJQHAACTBwAAjAcAAI0HAACVBwAAjAcAAJUHAACUBwAAjQcAAI4HAACWBwAAjQcAAJYHAACVBwAAjgcAAI8HAACXBwAAjgcAAJcHAACWBwAAjwcAAIgHAACQBwAAjwcAAJAHAACXBwAAkAcAAJEHAACZBwAAkAcAAJkHAACYBwAAkQcAAJIHAACaBwAAkQcAAJoHAACZBwAAkgcAAJMHAACbBwAAkgcAAJsHAACaBwAAkwcAAJQHAACcBwAAkwcAAJwHAACbBwAAlAcAAJUHAACdBwAAlAcAAJ0HAACcBwAAlQcAAJYHAACeBwAAlQcAAJ4HAACdBwAAlgcAAJcHAACfBwAAlgcAAJ8HAACeBwAAlwcAAJAHAACYBwAAlwcAAJgHAACfBwAAmAcAAJkHAAChBwAAmAcAAKEHAACgBwAAmQcAAJoHAACiBwAAmQcAAKIHAAChBwAAmgcAAJsHAACjBwAAmgcAAKMHAACiBwAAmwcAAJwHAACkBwAAmwcAAKQHAACjBwAAnAcAAJ0HAAClBwAAnAcAAKUHAACkBwAAnQcAAJ4HAACmBwAAnQcAAKYHAAClBwAAngcAAJ8HAACnBwAAngcAAKcHAACmBwAAnwcAAJgHAACgBwAAnwcAAKAHAACnBwAAoAcAAKEHAACpBwAAoAcAAKkHAACoBwAAoQcAAKIHAACqBwAAoQcAAKoHAACpBwAAogcAAKMHAACrBwAAogcAAKsHAACqBwAAowcAAKQHAACsBwAAowcAAKwHAACrBwAApAcAAKUHAACtBwAApAcAAK0HAACsBwAApQcAAKYHAACuBwAApQcAAK4HAACtBwAApgcAAKcHAACvBwAApgcAAK8HAACuBwAApwcAAKAHAACoBwAApwcAAKgHAACvBwAA",
        "encoding": "base64",
        "path": [
         "indices",
         "data"
        ]
       },
       {
        "data": "AACAPwAAAAAAAAAAAAAAAAAAAAAAAIA/AAAAAAAAAAAAAAAAAAAAAAAAgD8AAAAAAAAAAAAAAAAAAAAAAACAPw==",
        "encoding": "base64",
        "path": [
         "model_matrix",
         "data"
        ]
       },
       {
        "data": "",
        "encoding": "base64",
        "path": [
         "opacity_function",
         "data"
        ]
       },
       {
        "data": "",
        "encoding": "base64",
        "path": [
         "triangles_attribute",
         "data"
        ]
       },
       {
        "data": "AADAfw==",
        "encoding": "base64",
        "path": [
         "uvs",
         "data"
        ]
       },
       {
        "data": "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",
        "encoding": "base64",
        "path": [
         "vertices",
         "data"
        ]
       },
       {
        "data": "",
        "encoding": "base64",
        "path": [
         "volume",
         "data"
        ]
       },
       {
        "data": "",
        "encoding": "base64",
        "path": [
         "volume_bounds",
         "data"
        ]
       }
      ],
      "model_module": "k3d",
      "model_module_version": "2.12.0",
      "model_name": "ObjectModel",
      "state": {
       "_view_count": null,
       "_view_module": null,
       "_view_module_version": "",
       "_view_name": null,
       "attribute": {
        "data": {},
        "dtype": "float32",
        "shape": [
         0
        ]
       },
       "click_callback": false,
       "color": 4271375,
       "colorLegend": false,
       "color_map": {
        "data": {},
        "dtype": "float32",
        "shape": [
         1024
        ]
       },
       "color_range": [],
       "colors": {
        "data": {},
        "dtype": "uint32",
        "shape": [
         0
        ]
       },
       "compression_level": 0,
       "flat_shading": true,
       "group": null,
       "hover_callback": false,
       "id": 7160520816,
       "indices": {
        "data": {},
        "dtype": "uint32",
        "shape": [
         2928,
         3
        ]
       },
       "model_matrix": {
        "data": {},
        "dtype": "float32",
        "shape": [
         4,
         4
        ]
       },
       "name": "Mesh #1",
       "opacity": 1,
       "opacity_function": {
        "data": {},
        "dtype": "float32",
        "shape": [
         0
        ]
       },
       "side": "front",
       "texture": null,
       "texture_file_format": null,
       "triangles_attribute": {
        "data": {},
        "dtype": "float32",
        "shape": [
         0
        ]
       },
       "type": "Mesh",
       "uvs": {
        "data": {},
        "dtype": "float32",
        "shape": []
       },
       "vertices": {
        "data": {},
        "dtype": "float32",
        "shape": [
         1968,
         3
        ]
       },
       "visible": true,
       "volume": {
        "data": {},
        "dtype": "float32",
        "shape": [
         0
        ]
       },
       "volume_bounds": {
        "data": {},
        "dtype": "float32",
        "shape": [
         0
        ]
       },
       "wireframe": false
      }
     }
    },
    "version_major": 2,
    "version_minor": 0
   }
  }
 },
 "nbformat": 4,
 "nbformat_minor": 4
}
